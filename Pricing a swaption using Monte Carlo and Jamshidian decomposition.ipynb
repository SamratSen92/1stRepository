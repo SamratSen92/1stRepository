{
 "cells": [
  {
   "cell_type": "code",
   "execution_count": 1,
   "metadata": {},
   "outputs": [],
   "source": [
    "import time\n",
    "import numpy as np\n",
    "import pandas as pd\n",
    "import matplotlib.pyplot as plt\n",
    "import numdifftools as nd\n",
    "from scipy.stats import norm\n",
    "from scipy.optimize import fsolve\n",
    "from scipy.interpolate import interp1d\n",
    "%matplotlib inline"
   ]
  },
  {
   "cell_type": "markdown",
   "metadata": {},
   "source": [
    "### The Hull and White Model\n",
    "\n",
    "The SDE of the short rate process $\\{r(t)\\}_{t\\geq0}$, under the risk neutral measure, is given by:\n",
    "$$dr(t)=[\\vartheta(t)-ar(t)]dt + \\sigma dW(t),$$\n",
    "where $a$ and $\\sigma$ are positive constants and the deterministic function $\\vartheta$ is chosen so as to exactly fit the initial term structure of interest rates $T\\mapsto B(0,T)$ as observed in the market. As a result, we must have,\n",
    "$$\\vartheta(t)=\\frac{\\partial}{\\partial T}\\big|_{T=t} f(0,t) + af(0,t) + \\frac{\\sigma^2}{2a}(1-e^{-2at}),$$\n",
    "where $f(0,t)=-\\frac{\\partial}{\\partial T}\\big|_{T=t}\\log B(0,t)$, is the instantaneous forward rate at time $0$ for the maturity $t$.\n",
    "\n",
    "For the Hull and White model, a zero coupon bond $B(t,S)$ at time $t$ with maturity $S$, can be explicitly calculated through the formula $B(t,S)=A(t,S)e^{-C(t,S)r(t)}$, where\n",
    "\\begin{align*}\n",
    "&C(t,S)=\\frac{1}{a}\\big[1-e^{-a(S-t)}\\big]\\\n",
    "&A(t,S)=\\frac{B(0,S)}{B(0,t)}\\exp\\big\\{C(t,S)f(0,t)-\\frac{\\sigma^2}{4a}(1-e^{-2at})C(t,S)^2\\big\\}.\n",
    "\\end{align*}\n",
    "Using this it can be deduced that, under the $S$-forward measure, the SDE is given by:\n",
    "$$dr(t)=[\\vartheta(t)-C(t,S)\\sigma^2-ar(t)]dt + \\sigma dW^S(t).$$\n",
    "This new SDE will be used to generate paths of $r(t)$ upto a time $T\\leq S$.\n",
    "\n",
    "**Note:** Here I have used dummy values of $a$ and $\\sigma$ to generate the short rate process. Ideally, these parameters should be estimated from the available swaption prices."
   ]
  },
  {
   "cell_type": "markdown",
   "metadata": {},
   "source": [
    "#### The initial zero-bond curve\n",
    "\n",
    "This is a dummy curve obtained from replicating a plot shown in Brigo-Mercurio, figure 1.2."
   ]
  },
  {
   "cell_type": "code",
   "execution_count": 2,
   "metadata": {},
   "outputs": [
    {
     "data": {
      "text/plain": [
       "Text(0, 0.5, 'Current Bond Price')"
      ]
     },
     "execution_count": 2,
     "metadata": {},
     "output_type": "execute_result"
    },
    {
     "data": {
      "image/png": "[encoded data removed]",
      "text/plain": [
       "<Figure size 432x288 with 1 Axes>"
      ]
     },
     "metadata": {
      "needs_background": "light"
     },
     "output_type": "display_data"
    }
   ],
   "source": [
    "x_arr = [5*n for n in range(7)]\n",
    "y_arr = [1,0.8,0.6,0.42,0.3,0.22,0.18]\n",
    "\n",
    "# Interpolating a function with the given data points--> t vs B(0,t)\n",
    "def initial_ts_bonds(t): \n",
    "    return float(interp1d(x_arr,y_arr,kind='cubic',fill_value='extrapolate')(t))  # using float as the interp1d output is an array\n",
    "\n",
    "x_pts = np.arange(31)\n",
    "y_pts = np.array([initial_ts_bonds(T) for T in x_pts])\n",
    "plt.plot(x_pts,y_pts)\n",
    "plt.title('Initial Zero-bond curve')\n",
    "plt.xlabel('Maturity(in years)')\n",
    "plt.yticks([0.1*n for n in range(1,11)])\n",
    "plt.ylabel('Current Bond Price')"
   ]
  },
  {
   "cell_type": "markdown",
   "metadata": {},
   "source": [
    "#### Setting the Hull and White parameters"
   ]
  },
  {
   "cell_type": "code",
   "execution_count": 3,
   "metadata": {},
   "outputs": [],
   "source": [
    "# The constant parameters of Hull and White\n",
    "a = 0.04642\n",
    "sigma = 0.00586\n",
    "\n",
    "def log_bond_curve(t):    # t vs logB(0,t)\n",
    "    return np.log(initial_ts_bonds(t))\n",
    "\n",
    "# instantaneous forward rate at time 0 with maturity t --> f(0,t)\n",
    "def inst_forward_rate(t):\n",
    "    return -float(nd.Derivative(log_bond_curve)(t))\n",
    "\n",
    "# derivative of the above forward rate wrt T(= double derivative of the initial bond curve wrt T)\n",
    "def derivative_forward_rate(t):\n",
    "    return float(nd.Derivative(inst_forward_rate)(t))\n",
    "    #return -float(nd.Derivative(log_bond_curve,order=4,n=2)(t))\n",
    "\n",
    "# The deterministic function parameter of Hull and White\n",
    "def HW_param1(t):  \n",
    "    component1 = derivative_forward_rate(t) + a*inst_forward_rate(t)\n",
    "    component2 = ( (sigma**2)/(2*a) ) * ( 1 - np.exp(-2*a*t) )\n",
    "    return component1 + component2"
   ]
  },
  {
   "cell_type": "markdown",
   "metadata": {},
   "source": [
    "#### Simulating the short rate upto 1 year(under the 1yr-forward measure)"
   ]
  },
  {
   "cell_type": "code",
   "execution_count": 4,
   "metadata": {},
   "outputs": [],
   "source": [
    "S = 5                  # Time to (swap)maturity = 5 yr\n",
    "T = 1                  # Time to (swaption)maturity / short rate simulation final date = 1 yr\n",
    "r0 = 0.048             # Initial short rate = 4.8%\n",
    "step = 0.01            # Simulation time step = 0.01 yr\n",
    "\n",
    "# Defining the function C(t,S)\n",
    "def C(t,S):\n",
    "    return ( 1 - np.exp(-a*(S-t)) )/a\n",
    "\n",
    "# Defining the function A(t,S)\n",
    "def A(t,S):\n",
    "    comp1 = initial_ts_bonds(S)/initial_ts_bonds(t)\n",
    "    comp2 = C(t,S) * inst_forward_rate(t)\n",
    "    comp3 = ( (sigma**2)/(4*a) ) * ( 1 - np.exp(-2*a*t) ) * ( C(t,S)**2 )\n",
    "    return comp1 * np.exp( comp2 - comp3 )"
   ]
  },
  {
   "cell_type": "code",
   "execution_count": null,
   "metadata": {},
   "outputs": [],
   "source": []
  },
  {
   "cell_type": "markdown",
   "metadata": {},
   "source": [
    "#### Simulation under the risk neutral measure"
   ]
  },
  {
   "cell_type": "code",
   "execution_count": 5,
   "metadata": {},
   "outputs": [],
   "source": [
    "# Initializing the matrix that will contain the short rate data simulated by HW model\n",
    "# Rows of this matrix indicate different time steps upto final date of simulation\n",
    "# Columns of this matrix indicate different paths\n",
    "Simulated_rates_RN = np.zeros((101,1000))\n",
    "\n",
    "Simulated_rates_RN[0] = r0    # Time 0 values of the short rate process along all the paths\n",
    "\n",
    "for i in range(1,101):\n",
    "    np.random.seed(i)\n",
    "    comp1 = Simulated_rates_RN[i-1] + ( HW_param1(step*(i-1)) - a*Simulated_rates_RN[i-1] )*step\n",
    "    comp2 = sigma * np.sqrt(step) * np.random.randn(1000)\n",
    "    Simulated_rates_RN[i] = comp1 + comp2"
   ]
  },
  {
   "cell_type": "code",
   "execution_count": 6,
   "metadata": {},
   "outputs": [
    {
     "data": {
      "text/plain": [
       "array([0.04878318, 0.05014331, 0.04526535, 0.03894388, 0.04513051,\n",
       "       0.04481476, 0.04072362, 0.05002285, 0.04630747, 0.0506961 ,\n",
       "       0.05440567, 0.04990776, 0.04348779, 0.04554169, 0.04631197,\n",
       "       0.04357997, 0.05704047, 0.06089866, 0.05287696, 0.05218231,\n",
       "       0.0424365 , 0.03852443, 0.05568734, 0.0540501 , 0.04861805,\n",
       "       0.04901271, 0.05422113, 0.05076594, 0.05496963, 0.04269396,\n",
       "       0.0477766 , 0.04439025, 0.04071773, 0.0472418 , 0.03693459,\n",
       "       0.04277067, 0.04700156, 0.04796169, 0.04467326, 0.05142958,\n",
       "       0.05406954, 0.0459188 , 0.04612048, 0.05334646, 0.06009753,\n",
       "       0.04606403, 0.03894532, 0.05828475, 0.03961525, 0.05406487,\n",
       "       0.05089122, 0.04480431, 0.04245046, 0.05379796, 0.04955245,\n",
       "       0.06337081, 0.05724502, 0.0527445 , 0.04695549, 0.04807228,\n",
       "       0.04826807, 0.04718105, 0.049463  , 0.05251086, 0.05398828,\n",
       "       0.04974776, 0.04912318, 0.0508683 , 0.05641159, 0.06106598,\n",
       "       0.0563026 , 0.05431869, 0.04700503, 0.05623666, 0.0569342 ,\n",
       "       0.05683113, 0.05474525, 0.05221005, 0.0525666 , 0.03924741,\n",
       "       0.0576158 , 0.04894029, 0.05019513, 0.05431295, 0.05085114,\n",
       "       0.05546543, 0.05764424, 0.03611491, 0.04375211, 0.02834818,\n",
       "       0.05432825, 0.04615357, 0.05433333, 0.05346257, 0.05103671,\n",
       "       0.05410962, 0.05971735, 0.05140128, 0.04539395, 0.05756635,\n",
       "       0.04530922, 0.05256501, 0.04132157, 0.05321604, 0.05055318,\n",
       "       0.0560497 , 0.04945525, 0.048196  , 0.05002329, 0.0475547 ,\n",
       "       0.04609924, 0.0505279 , 0.04508416, 0.04515493, 0.04434631,\n",
       "       0.03982134, 0.04800679, 0.05092035, 0.04241676, 0.04765658,\n",
       "       0.04325542, 0.05645239, 0.0621534 , 0.04962647, 0.04754758,\n",
       "       0.05393921, 0.05438601, 0.04259034, 0.04712576, 0.0536791 ,\n",
       "       0.04544739, 0.04135586, 0.04483388, 0.04717318, 0.04688624,\n",
       "       0.05016932, 0.06167043, 0.0511298 , 0.04704232, 0.04874565,\n",
       "       0.05540152, 0.05083754, 0.03478114, 0.04665756, 0.05790935,\n",
       "       0.04628108, 0.04922516, 0.03663272, 0.04577098, 0.05085184,\n",
       "       0.0570401 , 0.05812168, 0.05145911, 0.04967849, 0.04883772,\n",
       "       0.0517994 , 0.05672588, 0.04304014, 0.0484001 , 0.04517448,\n",
       "       0.05091551, 0.04023403, 0.04503019, 0.04823185, 0.05033789,\n",
       "       0.05099   , 0.05591025, 0.05881607, 0.04690068, 0.06157043,\n",
       "       0.04542502, 0.04129104, 0.05749002, 0.0602117 , 0.05028721,\n",
       "       0.04381029, 0.05224662, 0.04698032, 0.04053874, 0.05199756,\n",
       "       0.04003235, 0.05503872, 0.05389525, 0.0528195 , 0.05401736,\n",
       "       0.04599329, 0.0481138 , 0.05047209, 0.04794413, 0.04947192,\n",
       "       0.05013237, 0.04862653, 0.05032688, 0.04760827, 0.05086631,\n",
       "       0.05485949, 0.05313466, 0.05253511, 0.04667791, 0.04724146,\n",
       "       0.06191849, 0.0599357 , 0.04814782, 0.0492059 , 0.05265853,\n",
       "       0.05771226, 0.05054632, 0.04786593, 0.04942407, 0.05223304,\n",
       "       0.04729592, 0.05288991, 0.04696805, 0.04239448, 0.04788811,\n",
       "       0.04451924, 0.05211944, 0.05356921, 0.05415063, 0.04281642,\n",
       "       0.0530459 , 0.04619187, 0.04975497, 0.04226174, 0.05439139,\n",
       "       0.05843077, 0.043712  , 0.04718448, 0.04624457, 0.04391961,\n",
       "       0.04462197, 0.05352731, 0.05025172, 0.04773974, 0.0506556 ,\n",
       "       0.05062826, 0.05310851, 0.05351094, 0.03468112, 0.0568104 ,\n",
       "       0.04631663, 0.03881426, 0.04829851, 0.04332452, 0.0504923 ,\n",
       "       0.05617742, 0.04699585, 0.04236771, 0.05659983, 0.03708811,\n",
       "       0.05603498, 0.06077468, 0.05616223, 0.05385803, 0.04200203,\n",
       "       0.0459222 , 0.04778908, 0.04981934, 0.05551713, 0.04955239,\n",
       "       0.05468995, 0.05875163, 0.04521498, 0.05119776, 0.04451603,\n",
       "       0.05090073, 0.051221  , 0.05162409, 0.04367869, 0.04755532,\n",
       "       0.0570528 , 0.05121964, 0.047248  , 0.04166607, 0.05232427,\n",
       "       0.04499743, 0.04862827, 0.04685882, 0.04525413, 0.04110856,\n",
       "       0.05235449, 0.04386527, 0.04801337, 0.05314877, 0.05355581,\n",
       "       0.04743732, 0.05857098, 0.05388846, 0.0359717 , 0.05108927,\n",
       "       0.05889614, 0.0517235 , 0.0431559 , 0.05371778, 0.05913297,\n",
       "       0.04742089, 0.0458266 , 0.04772593, 0.05308263, 0.03990221,\n",
       "       0.05492162, 0.05030573, 0.05063088, 0.05550831, 0.04089602,\n",
       "       0.05486575, 0.06080126, 0.04209136, 0.05078728, 0.05844672,\n",
       "       0.06336321, 0.05113093, 0.04961523, 0.04104988, 0.04934339,\n",
       "       0.04720894, 0.05483569, 0.04911501, 0.05820067, 0.03664034,\n",
       "       0.0557904 , 0.04385681, 0.04135995, 0.04412259, 0.04249662,\n",
       "       0.05295573, 0.04694772, 0.05385699, 0.0522819 , 0.04251161,\n",
       "       0.04712458, 0.03718092, 0.06332814, 0.03679506, 0.04569427,\n",
       "       0.04189305, 0.05250244, 0.0613595 , 0.05711692, 0.0455254 ,\n",
       "       0.06173042, 0.03233033, 0.050029  , 0.05186918, 0.06039322,\n",
       "       0.05206081, 0.0488918 , 0.05791096, 0.05149414, 0.05903271,\n",
       "       0.05491847, 0.05983342, 0.04425114, 0.04655985, 0.05017344,\n",
       "       0.04693497, 0.04568769, 0.04776607, 0.04225708, 0.03854342,\n",
       "       0.04760133, 0.0410304 , 0.04937491, 0.05159768, 0.0417706 ,\n",
       "       0.04797976, 0.04503976, 0.04844104, 0.03691694, 0.05109354,\n",
       "       0.03758466, 0.04174376, 0.04957267, 0.05260489, 0.05609555,\n",
       "       0.04170845, 0.04742688, 0.05978994, 0.05347034, 0.03889964,\n",
       "       0.05749082, 0.04806366, 0.05095734, 0.05322071, 0.04951191,\n",
       "       0.04979185, 0.04848835, 0.05084557, 0.04595718, 0.04170128,\n",
       "       0.04923095, 0.04196766, 0.05055117, 0.05323186, 0.05771526,\n",
       "       0.05382725, 0.05177477, 0.04413868, 0.04840824, 0.04632808,\n",
       "       0.05494014, 0.04707373, 0.05382989, 0.05204104, 0.0364277 ,\n",
       "       0.04073526, 0.05259223, 0.03579154, 0.04995308, 0.05254015,\n",
       "       0.05122914, 0.04808959, 0.04677406, 0.05399567, 0.0494838 ,\n",
       "       0.04477371, 0.05380531, 0.05600643, 0.05740645, 0.04534507,\n",
       "       0.0546779 , 0.04844034, 0.05250837, 0.04875567, 0.04985247,\n",
       "       0.04998005, 0.04757382, 0.04985003, 0.04564582, 0.04306064,\n",
       "       0.05188696, 0.04530902, 0.03768843, 0.04928849, 0.04470897,\n",
       "       0.04579512, 0.05007579, 0.04270878, 0.04851911, 0.04386039,\n",
       "       0.04994061, 0.05237983, 0.05054656, 0.05441671, 0.04192286,\n",
       "       0.05322004, 0.04608965, 0.0482858 , 0.05258445, 0.04398415,\n",
       "       0.05802808, 0.04737342, 0.05332825, 0.04016557, 0.04699055,\n",
       "       0.05251204, 0.04978267, 0.04985486, 0.04945663, 0.04519845,\n",
       "       0.05294019, 0.04814282, 0.05733793, 0.05058459, 0.06440723,\n",
       "       0.04136768, 0.05411004, 0.05440666, 0.05251416, 0.05339564,\n",
       "       0.04797363, 0.05383667, 0.04822693, 0.05533042, 0.05155844,\n",
       "       0.05003456, 0.06717107, 0.04406919, 0.04319743, 0.05148005,\n",
       "       0.04453152, 0.04294874, 0.05530956, 0.0518003 , 0.05276947,\n",
       "       0.04408664, 0.05689172, 0.04751905, 0.05144776, 0.04533927,\n",
       "       0.05111223, 0.04851512, 0.05639625, 0.03681297, 0.04525737,\n",
       "       0.03965011, 0.05149401, 0.05181532, 0.04512642, 0.04104237,\n",
       "       0.04829662, 0.04823094, 0.05228756, 0.0502747 , 0.0500978 ,\n",
       "       0.04781477, 0.05188432, 0.0539629 , 0.04667689, 0.05130003,\n",
       "       0.05043275, 0.04207565, 0.05064566, 0.04314821, 0.03903917,\n",
       "       0.05127891, 0.04943156, 0.04830821, 0.04997744, 0.04761945,\n",
       "       0.05690238, 0.0513965 , 0.04731585, 0.05139186, 0.04846339,\n",
       "       0.04067922, 0.05693153, 0.04895837, 0.05646625, 0.03655313,\n",
       "       0.05538505, 0.04680167, 0.05036194, 0.04645765, 0.04688159,\n",
       "       0.0535916 , 0.05046063, 0.04816565, 0.05069829, 0.05232991,\n",
       "       0.04546857, 0.05726535, 0.05463902, 0.04147654, 0.04199067,\n",
       "       0.05840257, 0.05987941, 0.04979229, 0.04786711, 0.05112051,\n",
       "       0.04780069, 0.04910221, 0.0457173 , 0.04199738, 0.0510249 ,\n",
       "       0.04864022, 0.04399292, 0.05284534, 0.0451696 , 0.04185418,\n",
       "       0.04785858, 0.05219444, 0.055658  , 0.04588474, 0.047838  ,\n",
       "       0.05351079, 0.04251738, 0.04699451, 0.05441301, 0.05332713,\n",
       "       0.04134731, 0.0546766 , 0.0485392 , 0.05356814, 0.04101226,\n",
       "       0.04558317, 0.04402517, 0.04608162, 0.0504007 , 0.04303243,\n",
       "       0.05082331, 0.03406065, 0.04815659, 0.05481808, 0.04810042,\n",
       "       0.04929615, 0.0491726 , 0.0365338 , 0.05527655, 0.05333707,\n",
       "       0.04895002, 0.04727739, 0.05360758, 0.04905341, 0.05964954,\n",
       "       0.0536103 , 0.04452456, 0.04796654, 0.06091406, 0.05817878,\n",
       "       0.05403435, 0.05655613, 0.04731381, 0.05432162, 0.05608742,\n",
       "       0.04100287, 0.03957477, 0.05115327, 0.04694435, 0.04361172,\n",
       "       0.05402133, 0.05840063, 0.06045968, 0.04941281, 0.04864845,\n",
       "       0.04474034, 0.05723477, 0.05627276, 0.0560502 , 0.05445504,\n",
       "       0.04798308, 0.0471616 , 0.05776248, 0.0535616 , 0.05821407,\n",
       "       0.04714981, 0.05016713, 0.05008627, 0.04821874, 0.05682809,\n",
       "       0.04533823, 0.0509952 , 0.05801939, 0.0481961 , 0.0492321 ,\n",
       "       0.04516201, 0.04630176, 0.06019757, 0.05117836, 0.03982473,\n",
       "       0.04853425, 0.05137617, 0.05849713, 0.04534359, 0.04321564,\n",
       "       0.0518205 , 0.04572977, 0.04472076, 0.04979426, 0.04772424,\n",
       "       0.04895833, 0.05961136, 0.05067778, 0.04314694, 0.04673278,\n",
       "       0.04420811, 0.05428409, 0.06237253, 0.04843485, 0.04777795,\n",
       "       0.04671618, 0.04165774, 0.05772013, 0.04232452, 0.05401862,\n",
       "       0.03812552, 0.0528131 , 0.0572928 , 0.04419465, 0.04688347,\n",
       "       0.05338597, 0.05097371, 0.05313177, 0.05315382, 0.0489921 ,\n",
       "       0.0530642 , 0.05794299, 0.04571386, 0.05136585, 0.04548787,\n",
       "       0.05093977, 0.049062  , 0.04024719, 0.05429183, 0.03568704,\n",
       "       0.04528406, 0.0425894 , 0.0512511 , 0.05383388, 0.0489954 ,\n",
       "       0.05821458, 0.04767375, 0.06172852, 0.04171291, 0.05712241,\n",
       "       0.04732643, 0.05329434, 0.05517921, 0.06746913, 0.05813743,\n",
       "       0.05307372, 0.05228693, 0.04509409, 0.05503808, 0.06584084,\n",
       "       0.04478308, 0.04169322, 0.04707856, 0.05114386, 0.05063995,\n",
       "       0.05123427, 0.06074466, 0.05413702, 0.05496261, 0.05453157,\n",
       "       0.05109686, 0.05259824, 0.04794385, 0.05099228, 0.04587232,\n",
       "       0.04643364, 0.05032107, 0.04208751, 0.05793784, 0.05415204,\n",
       "       0.05962096, 0.04658525, 0.05524586, 0.054477  , 0.05248781,\n",
       "       0.04378773, 0.04427028, 0.06227733, 0.04700755, 0.0481777 ,\n",
       "       0.05259758, 0.04640231, 0.05375338, 0.0529541 , 0.04672478,\n",
       "       0.05075215, 0.04780955, 0.05343168, 0.05320394, 0.05554443,\n",
       "       0.04890922, 0.040412  , 0.05832549, 0.04569145, 0.04277999,\n",
       "       0.0489015 , 0.04971583, 0.046691  , 0.05431663, 0.04337386,\n",
       "       0.04861884, 0.04643144, 0.04573469, 0.04953838, 0.0526061 ,\n",
       "       0.05714432, 0.05738583, 0.05020448, 0.04697248, 0.05112196,\n",
       "       0.04747433, 0.04591648, 0.04565256, 0.05153618, 0.04966398,\n",
       "       0.04826326, 0.05030783, 0.05627691, 0.05418477, 0.04794417,\n",
       "       0.05175658, 0.05392   , 0.03989365, 0.04807658, 0.05530134,\n",
       "       0.0477188 , 0.04455952, 0.04999819, 0.05365387, 0.04975422,\n",
       "       0.05175038, 0.05604123, 0.04748137, 0.05382533, 0.04508676,\n",
       "       0.04250824, 0.05873808, 0.04147721, 0.05279304, 0.04904619,\n",
       "       0.04893132, 0.05292983, 0.04452298, 0.0500116 , 0.04647496,\n",
       "       0.05685505, 0.04404358, 0.04916438, 0.04246247, 0.05154587,\n",
       "       0.04463072, 0.04485323, 0.05299077, 0.04868275, 0.05640387,\n",
       "       0.05308084, 0.04727014, 0.05592649, 0.05622885, 0.05032237,\n",
       "       0.04169423, 0.03729316, 0.04136836, 0.04403647, 0.05775382,\n",
       "       0.04377833, 0.05233654, 0.04526917, 0.045286  , 0.05324138,\n",
       "       0.05274259, 0.05327042, 0.04730793, 0.04875693, 0.06311443,\n",
       "       0.04537919, 0.05760598, 0.05347435, 0.0500395 , 0.04099576,\n",
       "       0.05186177, 0.05653703, 0.06544985, 0.04445458, 0.05042712,\n",
       "       0.05163747, 0.04752178, 0.05155534, 0.0535701 , 0.05087223,\n",
       "       0.06091029, 0.04911718, 0.05327036, 0.04148605, 0.05574754,\n",
       "       0.04991477, 0.05698311, 0.05358764, 0.05095018, 0.06193876,\n",
       "       0.05731215, 0.04370404, 0.04449274, 0.04525119, 0.04461045,\n",
       "       0.05498485, 0.04943251, 0.05520933, 0.06188702, 0.03988734,\n",
       "       0.0493357 , 0.05238814, 0.04056585, 0.04271693, 0.05532748,\n",
       "       0.0577101 , 0.04606903, 0.05016433, 0.0461869 , 0.03903413,\n",
       "       0.05396927, 0.05145575, 0.06093224, 0.04211217, 0.05007956,\n",
       "       0.0430168 , 0.0428085 , 0.05264083, 0.05293095, 0.05099551,\n",
       "       0.05330932, 0.04460623, 0.05278677, 0.05354897, 0.05304578,\n",
       "       0.05126595, 0.04636328, 0.04957952, 0.04449174, 0.04453611,\n",
       "       0.04294559, 0.04870277, 0.0447735 , 0.05372837, 0.04855495,\n",
       "       0.0588929 , 0.05419568, 0.04611222, 0.05382589, 0.04182095,\n",
       "       0.0573396 , 0.05370484, 0.05083315, 0.05392595, 0.04886999,\n",
       "       0.05961647, 0.04417498, 0.04871063, 0.05345524, 0.04848351,\n",
       "       0.05312449, 0.04432789, 0.04852932, 0.0502932 , 0.05127229,\n",
       "       0.05403029, 0.05475961, 0.05729983, 0.04767724, 0.05151447,\n",
       "       0.04382498, 0.05098358, 0.05251982, 0.05692468, 0.05923162,\n",
       "       0.04823246, 0.0463864 , 0.0441098 , 0.0485529 , 0.0476354 ,\n",
       "       0.0443695 , 0.04455754, 0.05180049, 0.04974641, 0.04708343,\n",
       "       0.04973426, 0.05924334, 0.04736827, 0.04218575, 0.04883657,\n",
       "       0.05233369, 0.04455119, 0.04040143, 0.04764903, 0.05210642,\n",
       "       0.04683103, 0.04678734, 0.05081922, 0.05117457, 0.0487764 ,\n",
       "       0.04806233, 0.04970232, 0.05518728, 0.04495329, 0.06282156,\n",
       "       0.05879214, 0.0518389 , 0.04618698, 0.05293316, 0.04864661,\n",
       "       0.04126814, 0.04112888, 0.05474279, 0.06170539, 0.04612539,\n",
       "       0.04678833, 0.04665657, 0.05290637, 0.04964575, 0.05116479,\n",
       "       0.04814673, 0.05314882, 0.04997292, 0.05110487, 0.05714596,\n",
       "       0.05244574, 0.04522618, 0.05605868, 0.05186407, 0.04445612,\n",
       "       0.04533963, 0.05016557, 0.04473961, 0.05194434, 0.05619787,\n",
       "       0.05438372, 0.04550855, 0.04689951, 0.04001149, 0.05324293,\n",
       "       0.0505781 , 0.05438837, 0.05631149, 0.04869987, 0.05388367])"
      ]
     },
     "execution_count": 6,
     "metadata": {},
     "output_type": "execute_result"
    }
   ],
   "source": [
    "# Final values of the short rate process along all paths(1000)\n",
    "Simulated_rates_RN[-1]"
   ]
  },
  {
   "cell_type": "code",
   "execution_count": null,
   "metadata": {},
   "outputs": [],
   "source": []
  },
  {
   "cell_type": "markdown",
   "metadata": {},
   "source": [
    "#### Simulation under the T-forward measure"
   ]
  },
  {
   "cell_type": "code",
   "execution_count": 7,
   "metadata": {},
   "outputs": [],
   "source": [
    "# Initializing the matrix that will contain the short rate data simulated by HW model\n",
    "# Rows of this matrix indicate different time steps upto final date of simulation\n",
    "# Columns of this matrix indicate different paths\n",
    "Simulated_rates_fwd = np.zeros((101,1000))\n",
    "\n",
    "Simulated_rates_fwd[0] = r0    # Time 0 values of the short rate process along all the paths\n",
    "\n",
    "for i in range(1,101):\n",
    "    np.random.seed(i)\n",
    "    comp1 = Simulated_rates_fwd[i-1] + ( HW_param1(step*(i-1)) - C(step*(i-1),T)*(sigma**2) - a*Simulated_rates_fwd[i-1] )*step\n",
    "    comp2 = sigma * np.sqrt(step) * np.random.randn(1000)\n",
    "    Simulated_rates_fwd[i] = comp1 + comp2"
   ]
  },
  {
   "cell_type": "code",
   "execution_count": 8,
   "metadata": {},
   "outputs": [
    {
     "data": {
      "text/plain": [
       "array([0.04876661, 0.05012675, 0.04524879, 0.03892732, 0.04511395,\n",
       "       0.0447982 , 0.04070706, 0.05000629, 0.04629091, 0.05067954,\n",
       "       0.05438911, 0.0498912 , 0.04347123, 0.04552512, 0.04629541,\n",
       "       0.04356341, 0.05702391, 0.0608821 , 0.0528604 , 0.05216575,\n",
       "       0.04241994, 0.03850787, 0.05567078, 0.05403354, 0.04860149,\n",
       "       0.04899614, 0.05420457, 0.05074938, 0.05495307, 0.0426774 ,\n",
       "       0.04776004, 0.04437369, 0.04070117, 0.04722524, 0.03691803,\n",
       "       0.04275411, 0.046985  , 0.04794512, 0.0446567 , 0.05141302,\n",
       "       0.05405297, 0.04590224, 0.04610392, 0.0533299 , 0.06008097,\n",
       "       0.04604747, 0.03892876, 0.05826819, 0.03959869, 0.05404831,\n",
       "       0.05087466, 0.04478775, 0.0424339 , 0.0537814 , 0.04953589,\n",
       "       0.06335425, 0.05722846, 0.05272794, 0.04693893, 0.04805571,\n",
       "       0.04825151, 0.04716449, 0.04944644, 0.0524943 , 0.05397172,\n",
       "       0.0497312 , 0.04910662, 0.05085174, 0.05639503, 0.06104942,\n",
       "       0.05628604, 0.05430213, 0.04698847, 0.0562201 , 0.05691763,\n",
       "       0.05681457, 0.05472869, 0.05219349, 0.05255004, 0.03923085,\n",
       "       0.05759923, 0.04892373, 0.05017857, 0.05429639, 0.05083458,\n",
       "       0.05544887, 0.05762767, 0.03609835, 0.04373555, 0.02833162,\n",
       "       0.05431168, 0.04613701, 0.05431677, 0.053446  , 0.05102015,\n",
       "       0.05409305, 0.05970079, 0.05138472, 0.04537739, 0.05754979,\n",
       "       0.04529266, 0.05254845, 0.04130501, 0.05319948, 0.05053662,\n",
       "       0.05603314, 0.04943868, 0.04817944, 0.05000673, 0.04753814,\n",
       "       0.04608268, 0.05051134, 0.0450676 , 0.04513837, 0.04432975,\n",
       "       0.03980478, 0.04799023, 0.05090379, 0.0424002 , 0.04764001,\n",
       "       0.04323886, 0.05643583, 0.06213684, 0.04960991, 0.04753102,\n",
       "       0.05392265, 0.05436945, 0.04257378, 0.0471092 , 0.05366254,\n",
       "       0.04543083, 0.0413393 , 0.04481732, 0.04715661, 0.04686968,\n",
       "       0.05015276, 0.06165386, 0.05111324, 0.04702576, 0.04872909,\n",
       "       0.05538496, 0.05082098, 0.03476458, 0.04664099, 0.05789279,\n",
       "       0.04626452, 0.04920859, 0.03661616, 0.04575442, 0.05083528,\n",
       "       0.05702353, 0.05810512, 0.05144255, 0.04966193, 0.04882115,\n",
       "       0.05178283, 0.05670932, 0.04302357, 0.04838353, 0.04515792,\n",
       "       0.05089895, 0.04021747, 0.04501363, 0.04821528, 0.05032133,\n",
       "       0.05097344, 0.05589369, 0.05879951, 0.04688412, 0.06155387,\n",
       "       0.04540846, 0.04127448, 0.05747346, 0.06019514, 0.05027065,\n",
       "       0.04379373, 0.05223006, 0.04696376, 0.04052218, 0.05198099,\n",
       "       0.04001579, 0.05502216, 0.05387869, 0.05280294, 0.0540008 ,\n",
       "       0.04597673, 0.04809724, 0.05045553, 0.04792757, 0.04945536,\n",
       "       0.0501158 , 0.04860996, 0.05031032, 0.04759171, 0.05084974,\n",
       "       0.05484293, 0.0531181 , 0.05251855, 0.04666135, 0.0472249 ,\n",
       "       0.06190193, 0.05991914, 0.04813126, 0.04918934, 0.05264197,\n",
       "       0.0576957 , 0.05052976, 0.04784937, 0.04940751, 0.05221648,\n",
       "       0.04727936, 0.05287334, 0.04695149, 0.04237792, 0.04787154,\n",
       "       0.04450268, 0.05210288, 0.05355265, 0.05413407, 0.04279985,\n",
       "       0.05302934, 0.04617531, 0.04973841, 0.04224517, 0.05437482,\n",
       "       0.05841421, 0.04369544, 0.04716792, 0.04622801, 0.04390305,\n",
       "       0.04460541, 0.05351075, 0.05023516, 0.04772317, 0.05063904,\n",
       "       0.0506117 , 0.05309194, 0.05349437, 0.03466456, 0.05679384,\n",
       "       0.04630007, 0.0387977 , 0.04828195, 0.04330796, 0.05047574,\n",
       "       0.05616086, 0.04697929, 0.04235115, 0.05658327, 0.03707155,\n",
       "       0.05601842, 0.06075812, 0.05614567, 0.05384146, 0.04198547,\n",
       "       0.04590564, 0.04777252, 0.04980278, 0.05550057, 0.04953583,\n",
       "       0.05467339, 0.05873507, 0.04519841, 0.0511812 , 0.04449947,\n",
       "       0.05088416, 0.05120444, 0.05160753, 0.04366213, 0.04753876,\n",
       "       0.05703624, 0.05120308, 0.04723144, 0.04164951, 0.05230771,\n",
       "       0.04498087, 0.04861171, 0.04684226, 0.04523757, 0.041092  ,\n",
       "       0.05233793, 0.04384871, 0.04799681, 0.05313221, 0.05353924,\n",
       "       0.04742076, 0.05855442, 0.0538719 , 0.03595514, 0.05107271,\n",
       "       0.05887958, 0.05170694, 0.04313934, 0.05370122, 0.05911641,\n",
       "       0.04740432, 0.04581004, 0.04770937, 0.05306607, 0.03988565,\n",
       "       0.05490506, 0.05028917, 0.05061432, 0.05549175, 0.04087945,\n",
       "       0.05484919, 0.0607847 , 0.0420748 , 0.05077072, 0.05843016,\n",
       "       0.06334665, 0.05111437, 0.04959867, 0.04103332, 0.04932682,\n",
       "       0.04719238, 0.05481913, 0.04909844, 0.0581841 , 0.03662377,\n",
       "       0.05577384, 0.04384024, 0.04134339, 0.04410603, 0.04248006,\n",
       "       0.05293917, 0.04693116, 0.05384043, 0.05226534, 0.04249504,\n",
       "       0.04710802, 0.03716436, 0.06331158, 0.0367785 , 0.04567771,\n",
       "       0.04187649, 0.05248588, 0.06134294, 0.05710035, 0.04550884,\n",
       "       0.06171386, 0.03231377, 0.05001244, 0.05185262, 0.06037666,\n",
       "       0.05204425, 0.04887524, 0.05789439, 0.05147758, 0.05901615,\n",
       "       0.05490191, 0.05981686, 0.04423458, 0.04654329, 0.05015688,\n",
       "       0.04691841, 0.04567113, 0.04774951, 0.04224052, 0.03852686,\n",
       "       0.04758477, 0.04101384, 0.04935835, 0.05158112, 0.04175404,\n",
       "       0.0479632 , 0.0450232 , 0.04842447, 0.03690038, 0.05107698,\n",
       "       0.0375681 , 0.0417272 , 0.04955611, 0.05258833, 0.05607899,\n",
       "       0.04169189, 0.04741032, 0.05977338, 0.05345378, 0.03888308,\n",
       "       0.05747426, 0.0480471 , 0.05094078, 0.05320415, 0.04949535,\n",
       "       0.04977529, 0.04847179, 0.050829  , 0.04594062, 0.04168472,\n",
       "       0.04921439, 0.0419511 , 0.05053461, 0.0532153 , 0.0576987 ,\n",
       "       0.05381068, 0.05175821, 0.04412212, 0.04839168, 0.04631152,\n",
       "       0.05492358, 0.04705717, 0.05381333, 0.05202448, 0.03641114,\n",
       "       0.0407187 , 0.05257567, 0.03577498, 0.04993652, 0.05252359,\n",
       "       0.05121258, 0.04807303, 0.0467575 , 0.05397911, 0.04946724,\n",
       "       0.04475715, 0.05378875, 0.05598987, 0.05738989, 0.04532851,\n",
       "       0.05466134, 0.04842378, 0.05249181, 0.04873911, 0.04983591,\n",
       "       0.04996349, 0.04755726, 0.04983347, 0.04562926, 0.04304408,\n",
       "       0.0518704 , 0.04529246, 0.03767187, 0.04927193, 0.04469241,\n",
       "       0.04577856, 0.05005923, 0.04269222, 0.04850255, 0.04384383,\n",
       "       0.04992405, 0.05236327, 0.05052999, 0.05440015, 0.0419063 ,\n",
       "       0.05320347, 0.04607309, 0.04826924, 0.05256789, 0.04396759,\n",
       "       0.05801152, 0.04735685, 0.05331169, 0.04014901, 0.04697399,\n",
       "       0.05249548, 0.04976611, 0.0498383 , 0.04944007, 0.04518189,\n",
       "       0.05292363, 0.04812626, 0.05732136, 0.05056803, 0.06439067,\n",
       "       0.04135111, 0.05409347, 0.0543901 , 0.0524976 , 0.05337908,\n",
       "       0.04795707, 0.05382011, 0.04821037, 0.05531386, 0.05154188,\n",
       "       0.050018  , 0.06715451, 0.04405263, 0.04318087, 0.05146349,\n",
       "       0.04451496, 0.04293218, 0.055293  , 0.05178374, 0.0527529 ,\n",
       "       0.04407008, 0.05687516, 0.04750248, 0.0514312 , 0.0453227 ,\n",
       "       0.05109566, 0.04849856, 0.05637968, 0.03679641, 0.04524081,\n",
       "       0.03963354, 0.05147745, 0.05179876, 0.04510986, 0.04102581,\n",
       "       0.04828006, 0.04821438, 0.052271  , 0.05025814, 0.05008124,\n",
       "       0.04779821, 0.05186776, 0.05394634, 0.04666033, 0.05128346,\n",
       "       0.05041619, 0.04205908, 0.0506291 , 0.04313165, 0.03902261,\n",
       "       0.05126235, 0.049415  , 0.04829164, 0.04996088, 0.04760289,\n",
       "       0.05688582, 0.05137994, 0.04729929, 0.0513753 , 0.04844682,\n",
       "       0.04066265, 0.05691497, 0.04894181, 0.05644969, 0.03653657,\n",
       "       0.05536849, 0.04678511, 0.05034538, 0.04644109, 0.04686503,\n",
       "       0.05357504, 0.05044407, 0.04814909, 0.05068173, 0.05231335,\n",
       "       0.04545201, 0.05724879, 0.05462245, 0.04145998, 0.04197411,\n",
       "       0.058386  , 0.05986285, 0.04977573, 0.04785055, 0.05110395,\n",
       "       0.04778413, 0.04908565, 0.04570074, 0.04198082, 0.05100834,\n",
       "       0.04862366, 0.04397636, 0.05282878, 0.04515303, 0.04183762,\n",
       "       0.04784202, 0.05217788, 0.05564144, 0.04586818, 0.04782144,\n",
       "       0.05349423, 0.04250082, 0.04697795, 0.05439645, 0.05331056,\n",
       "       0.04133075, 0.05466003, 0.04852263, 0.05355158, 0.0409957 ,\n",
       "       0.04556661, 0.04400861, 0.04606506, 0.05038413, 0.04301587,\n",
       "       0.05080675, 0.03404409, 0.04814003, 0.05480152, 0.04808386,\n",
       "       0.04927959, 0.04915604, 0.03651724, 0.05525999, 0.05332051,\n",
       "       0.04893346, 0.04726083, 0.05359102, 0.04903685, 0.05963298,\n",
       "       0.05359374, 0.04450799, 0.04794998, 0.0608975 , 0.05816222,\n",
       "       0.05401779, 0.05653957, 0.04729725, 0.05430506, 0.05607086,\n",
       "       0.04098631, 0.03955821, 0.05113671, 0.04692779, 0.04359516,\n",
       "       0.05400477, 0.05838406, 0.06044312, 0.04939625, 0.04863189,\n",
       "       0.04472378, 0.05721821, 0.0562562 , 0.05603364, 0.05443848,\n",
       "       0.04796652, 0.04714504, 0.05774592, 0.05354504, 0.05819751,\n",
       "       0.04713325, 0.05015056, 0.05006971, 0.04820218, 0.05681153,\n",
       "       0.04532167, 0.05097864, 0.05800283, 0.04817954, 0.04921553,\n",
       "       0.04514545, 0.0462852 , 0.060181  , 0.0511618 , 0.03980817,\n",
       "       0.04851769, 0.05135961, 0.05848057, 0.04532703, 0.04319908,\n",
       "       0.05180393, 0.04571321, 0.0447042 , 0.0497777 , 0.04770768,\n",
       "       0.04894177, 0.0595948 , 0.05066122, 0.04313038, 0.04671621,\n",
       "       0.04419155, 0.05426753, 0.06235597, 0.04841829, 0.04776139,\n",
       "       0.04669961, 0.04164118, 0.05770357, 0.04230796, 0.05400206,\n",
       "       0.03810896, 0.05279654, 0.05727623, 0.04417809, 0.04686691,\n",
       "       0.05336941, 0.05095715, 0.05311521, 0.05313726, 0.04897554,\n",
       "       0.05304764, 0.05792643, 0.0456973 , 0.05134929, 0.04547131,\n",
       "       0.05092321, 0.04904544, 0.04023063, 0.05427527, 0.03567048,\n",
       "       0.0452675 , 0.04257284, 0.05123454, 0.05381732, 0.04897884,\n",
       "       0.05819801, 0.04765718, 0.06171196, 0.04169635, 0.05710585,\n",
       "       0.04730987, 0.05327777, 0.05516265, 0.06745257, 0.05812087,\n",
       "       0.05305716, 0.05227037, 0.04507753, 0.05502152, 0.06582428,\n",
       "       0.04476652, 0.04167666, 0.04706199, 0.0511273 , 0.05062339,\n",
       "       0.05121771, 0.0607281 , 0.05412046, 0.05494605, 0.05451501,\n",
       "       0.0510803 , 0.05258168, 0.04792729, 0.05097572, 0.04585575,\n",
       "       0.04641708, 0.05030451, 0.04207095, 0.05792128, 0.05413547,\n",
       "       0.0596044 , 0.04656868, 0.0552293 , 0.05446044, 0.05247125,\n",
       "       0.04377117, 0.04425372, 0.06226077, 0.04699099, 0.04816114,\n",
       "       0.05258102, 0.04638575, 0.05373682, 0.05293753, 0.04670821,\n",
       "       0.05073558, 0.04779298, 0.05341512, 0.05318738, 0.05552787,\n",
       "       0.04889266, 0.04039544, 0.05830893, 0.04567489, 0.04276343,\n",
       "       0.04888494, 0.04969927, 0.04667444, 0.05430006, 0.0433573 ,\n",
       "       0.04860228, 0.04641487, 0.04571812, 0.04952182, 0.05258953,\n",
       "       0.05712776, 0.05736926, 0.05018791, 0.04695592, 0.0511054 ,\n",
       "       0.04745777, 0.04589992, 0.045636  , 0.05151962, 0.04964742,\n",
       "       0.0482467 , 0.05029126, 0.05626035, 0.05416821, 0.04792761,\n",
       "       0.05174002, 0.05390344, 0.03987709, 0.04806001, 0.05528478,\n",
       "       0.04770224, 0.04454295, 0.04998163, 0.05363731, 0.04973766,\n",
       "       0.05173381, 0.05602467, 0.04746481, 0.05380877, 0.0450702 ,\n",
       "       0.04249168, 0.05872152, 0.04146065, 0.05277648, 0.04902963,\n",
       "       0.04891476, 0.05291327, 0.04450642, 0.04999504, 0.0464584 ,\n",
       "       0.05683849, 0.04402702, 0.04914782, 0.04244591, 0.05152931,\n",
       "       0.04461416, 0.04483667, 0.05297421, 0.04866619, 0.05638731,\n",
       "       0.05306428, 0.04725358, 0.05590993, 0.05621229, 0.05030581,\n",
       "       0.04167767, 0.0372766 , 0.0413518 , 0.0440199 , 0.05773726,\n",
       "       0.04376177, 0.05231997, 0.04525261, 0.04526944, 0.05322482,\n",
       "       0.05272603, 0.05325386, 0.04729137, 0.04874037, 0.06309787,\n",
       "       0.04536263, 0.05758942, 0.05345779, 0.05002294, 0.0409792 ,\n",
       "       0.0518452 , 0.05652047, 0.06543329, 0.04443802, 0.05041056,\n",
       "       0.05162091, 0.04750522, 0.05153878, 0.05355353, 0.05085567,\n",
       "       0.06089373, 0.04910062, 0.0532538 , 0.04146949, 0.05573098,\n",
       "       0.04989821, 0.05696655, 0.05357108, 0.05093362, 0.0619222 ,\n",
       "       0.05729559, 0.04368748, 0.04447618, 0.04523463, 0.04459389,\n",
       "       0.05496829, 0.04941595, 0.05519277, 0.06187046, 0.03987078,\n",
       "       0.04931914, 0.05237158, 0.04054928, 0.04270037, 0.05531092,\n",
       "       0.05769354, 0.04605247, 0.05014777, 0.04617034, 0.03901757,\n",
       "       0.05395271, 0.05143919, 0.06091568, 0.04209561, 0.050063  ,\n",
       "       0.04300024, 0.04279194, 0.05262427, 0.05291438, 0.05097895,\n",
       "       0.05329275, 0.04458967, 0.05277021, 0.05353241, 0.05302922,\n",
       "       0.05124939, 0.04634672, 0.04956296, 0.04447517, 0.04451955,\n",
       "       0.04292903, 0.04868621, 0.04475694, 0.05371181, 0.04853839,\n",
       "       0.05887633, 0.05417911, 0.04609566, 0.05380933, 0.04180439,\n",
       "       0.05732304, 0.05368827, 0.05081659, 0.05390939, 0.04885343,\n",
       "       0.05959991, 0.04415842, 0.04869407, 0.05343867, 0.04846695,\n",
       "       0.05310792, 0.04431132, 0.04851276, 0.05027664, 0.05125573,\n",
       "       0.05401373, 0.05474305, 0.05728326, 0.04766068, 0.0514979 ,\n",
       "       0.04380842, 0.05096702, 0.05250326, 0.05690811, 0.05921506,\n",
       "       0.0482159 , 0.04636984, 0.04409324, 0.04853634, 0.04761884,\n",
       "       0.04435294, 0.04454097, 0.05178393, 0.04972985, 0.04706687,\n",
       "       0.0497177 , 0.05922678, 0.04735171, 0.04216918, 0.04882001,\n",
       "       0.05231713, 0.04453463, 0.04038487, 0.04763247, 0.05208986,\n",
       "       0.04681447, 0.04677078, 0.05080265, 0.05115801, 0.04875983,\n",
       "       0.04804577, 0.04968576, 0.05517072, 0.04493673, 0.062805  ,\n",
       "       0.05877558, 0.05182234, 0.04617042, 0.0529166 , 0.04863005,\n",
       "       0.04125158, 0.04111232, 0.05472623, 0.06168882, 0.04610883,\n",
       "       0.04677177, 0.04664001, 0.0528898 , 0.04962919, 0.05114823,\n",
       "       0.04813017, 0.05313226, 0.04995636, 0.05108831, 0.0571294 ,\n",
       "       0.05242917, 0.04520962, 0.05604212, 0.05184751, 0.04443956,\n",
       "       0.04532307, 0.05014901, 0.04472305, 0.05192777, 0.0561813 ,\n",
       "       0.05436716, 0.04549199, 0.04688294, 0.03999493, 0.05322637,\n",
       "       0.05056154, 0.0543718 , 0.05629493, 0.04868331, 0.05386711])"
      ]
     },
     "execution_count": 8,
     "metadata": {},
     "output_type": "execute_result"
    }
   ],
   "source": [
    "# Final values of the short rate process along all paths(1000)\n",
    "Simulated_rates_fwd[-1]"
   ]
  },
  {
   "cell_type": "code",
   "execution_count": null,
   "metadata": {},
   "outputs": [],
   "source": []
  },
  {
   "cell_type": "code",
   "execution_count": null,
   "metadata": {},
   "outputs": [],
   "source": []
  },
  {
   "cell_type": "markdown",
   "metadata": {},
   "source": [
    "### Pricing a swaption\n",
    "\n",
    "Consider a payer swaption with strike rate $K$, maturity $T$ and nominal value $N$, which gives the holder the right to enter into a payer swap at time at time $t_0=T$ with payment dates $t_1,\\ldots,t_n=S,t_i>T$, where he pays at the fixed rate $K$ and receives at the floating(LIBOR) rate $L(t_{i-1},t_i)$.\n",
    "\n",
    "The payoff of this swaption is given by \n",
    "$$N\\Big(\\sum_{i=1}^nB(T,t_i)(t_i-t_{i-1})\\big[F(T,t_{i-1},t_i)-K\\big]\\Big)^+=N\\big(1-\\sum_{i=1}^nc_iB(T,t_i)\\big)^+,$$\n",
    "where $c_i=K(t_i-t_{i-1}),c_n=\\big(1+K(t_i-t_{i-1})\\big)$, and $F(T,t_{i-1},t_i)=\\frac{B(T,t_{i-1})-B(T,t_i)}{(t_i-t_{i-1})B(T,t_i)}$ is the forward rate at time $T$ with expiry $t_{i-1}$ and maturity $t_i$, for $i\\in\\{1,\\ldots,n\\}$.\n",
    "\n",
    "To compute the current price of this swaption, the following approaches will be used:\n",
    "1. **Monte-Carlo Method**\n",
    "2. **Jamshidian Decomposition**\n",
    "\n",
    "Finally, it'll be assumed that the swaption is at the money, i.e., $K=\\frac{B(0,T)-B(0,S)}{\\sum_{i=1}^n(t_i-t_{i-1})B(0,t_i)}$, which is the swap rate of the underlying swap at time 0."
   ]
  },
  {
   "cell_type": "code",
   "execution_count": 9,
   "metadata": {},
   "outputs": [
    {
     "name": "stdout",
     "output_type": "stream",
     "text": [
      "Time to payment dates:  [1.5 2.  2.5 3.  3.5 4.  4.5 5. ] \n",
      "\n",
      "The strike rate:  0.046092690884860135 \n",
      "\n",
      "The coupon values:  [0.02304635 0.02304635 0.02304635 0.02304635 0.02304635 0.02304635\n",
      " 0.02304635 1.02304635]\n"
     ]
    }
   ],
   "source": [
    "# The nominal value of the contract(= 100 USD)\n",
    "N = 100             \n",
    "\n",
    "# Time between the reset date and the next payment date\n",
    "tau = 0.5          # 0.5 yrs = 6 months\n",
    "\n",
    "# The payment and reset dates of the swaption\n",
    "# 1st reset date = the swaption maturity\n",
    "# 2nd reset date = 1st payment date, 3rd reset date = 2nd payment date, and so on. Last payment date(from current date) = 5 yrs\n",
    "time_to_payment_dates = np.arange(T+tau,S+tau,tau)\n",
    "print('Time to payment dates: ', time_to_payment_dates,'\\n')\n",
    "\n",
    "# The strike rate\n",
    "K = ( initial_ts_bonds(T)-initial_ts_bonds(S) )/( tau*sum([initial_ts_bonds(t) for t in time_to_payment_dates]) )\n",
    "print('The strike rate: ', K,'\\n')\n",
    "\n",
    "# The coupon amounts(=c_i)\n",
    "coupon_values = np.array([K*tau for i in range(len(time_to_payment_dates)-1)] + [1+K*tau])\n",
    "print('The coupon values: ', coupon_values)"
   ]
  },
  {
   "cell_type": "markdown",
   "metadata": {},
   "source": [
    "#### Monte Carlo Method\n",
    "\n",
    "To price the above swaption using Monte-Carlo method, $T$-forward measure will be used. With this, the current price is given by $NB(0,T)\\mathbf{E}^T\\big[\\big(1-\\sum_{i=1}^nc_iB(T,t_i)\\big)^+\\big]$\n",
    "\n",
    "Under the risk-neutral measure the price becomes\n",
    "$N\\mathbf{E}\\big[D(T)\\big(1-\\sum_{i=1}^nc_iB(T,t_i)\\big)^+\\big]=N\\mathbf{E}\\big[\\exp\\big\\{-\\int_0^Tr(u)du\\big\\}\\big(1-\\sum_{i=1}^nc_iB(T,t_i)\\big)^+\\big]=N\\mathbf{E}\\big[\\exp\\big\\{-\\sum_{i=0}^{m-1}r(s_i)\\Delta s_i\\big\\}\\big(1-\\sum_{i=1}^nc_iB(T,t_i)\\big)^+\\big]$"
   ]
  },
  {
   "cell_type": "code",
   "execution_count": 12,
   "metadata": {},
   "outputs": [],
   "source": [
    "# Defining the function u->B(T,u), where T is the swaption maturity\n",
    "# The output is an array as it contains the simulated values of the short rate at swaption maturity\n",
    "def bondprice_at_swMaturity_RN(u):\n",
    "    return np.array([ A(T,u)*np.exp(-C(T,u)*r) for r in Simulated_rates_RN[-1] ])\n",
    "\n",
    "def bondprice_at_swMaturity_fwd(u):\n",
    "    return np.array([ A(T,u)*np.exp(-C(T,u)*r) for r in Simulated_rates_fwd[-1] ])"
   ]
  },
  {
   "cell_type": "code",
   "execution_count": null,
   "metadata": {},
   "outputs": [],
   "source": []
  },
  {
   "cell_type": "markdown",
   "metadata": {},
   "source": [
    "#### Pricing under the Risk Neutral Measure"
   ]
  },
  {
   "cell_type": "code",
   "execution_count": 13,
   "metadata": {},
   "outputs": [
    {
     "name": "stdout",
     "output_type": "stream",
     "text": [
      "Price of the above swaption using Monte-Carlo method:  2.715724455079553 \n",
      "\n",
      "Time required for this step:  59.878769397735596\n"
     ]
    }
   ],
   "source": [
    "start = time.time()\n",
    "\n",
    "# Step1: Finding the array within the expectation --> 1 - Sum of c_iB(T,t_i)\n",
    "array1 = 1 - sum([c*bondprice_at_swMaturity_RN(t) for c,t in zip(coupon_values,time_to_payment_dates)])\n",
    "\n",
    "# Step2: Choosing only the non-negative values from Step 1\n",
    "array2 = np.array([max(x,0) for x in array1])\n",
    "\n",
    "# Step3: Computing the discount factor at T\n",
    "discount_factor_arr = np.exp(-step*sum([Simulated_rates_RN[i] for i in range(100)] ) )\n",
    "\n",
    "# Step4: Computing the discounted payoff\n",
    "array3 = discount_factor_arr * array2\n",
    "\n",
    "# Step3: Computing the expectation\n",
    "exp_value = array3.mean()\n",
    "\n",
    "# Step4: Swaption price using the Monte-Carlo method\n",
    "swaption_price_MC = N * exp_value\n",
    "print('Price of the above swaption using Monte-Carlo method: ', swaption_price_MC,'\\n')\n",
    "\n",
    "end = time.time()\n",
    "extime = end - start\n",
    "print('Time required for this step: ', extime)"
   ]
  },
  {
   "cell_type": "code",
   "execution_count": null,
   "metadata": {},
   "outputs": [],
   "source": []
  },
  {
   "cell_type": "markdown",
   "metadata": {},
   "source": [
    "#### Pricing under the forward measure"
   ]
  },
  {
   "cell_type": "code",
   "execution_count": 14,
   "metadata": {},
   "outputs": [
    {
     "name": "stdout",
     "output_type": "stream",
     "text": [
      "Price of the above swaption using Monte-Carlo method:  2.738404841667368 \n",
      "\n",
      "Time required for this step:  58.11758351325989\n"
     ]
    }
   ],
   "source": [
    "start = time.time()\n",
    "\n",
    "# Step1: Finding the array within the expectation --> 1 - Sum of c_iB(T,t_i)\n",
    "array1 = 1 - sum([c*bondprice_at_swMaturity_fwd(t) for c,t in zip(coupon_values,time_to_payment_dates)])\n",
    "\n",
    "# Step2: Choosing only the non-negative values from Step 1\n",
    "array2 = np.array([max(x,0) for x in array1])\n",
    "\n",
    "# Step3: Computing the expectation\n",
    "exp_value = array2.mean()\n",
    "\n",
    "# Step4: Swaption price using the Monte-Carlo method\n",
    "swaption_price_MC = N * initial_ts_bonds(T) * exp_value\n",
    "print('Price of the above swaption using Monte-Carlo method: ', swaption_price_MC,'\\n')\n",
    "\n",
    "end = time.time()\n",
    "extime = end - start\n",
    "print('Time required for this step: ', extime)"
   ]
  },
  {
   "cell_type": "code",
   "execution_count": null,
   "metadata": {},
   "outputs": [],
   "source": []
  },
  {
   "cell_type": "markdown",
   "metadata": {},
   "source": [
    "#### Jamshidian Decomposition\n",
    "\n",
    "To price the above swaption using Jamshidian decomposition, first one needs to solve the equation: $\\sum_{i=1}^nc_iA(T,t_i)e^{-C(T,t_i)r}=1$, for $r$. In this case, the equation is (theoritically)solvable by the intermediate value theorem, due to the following reasons:\n",
    "* The function $r\\mapsto\\sum_{i=1}^nc_iA(T,t_i)e^{-C(T,t_i)r}$ is continuous.\n",
    "* Range of this function lies between $0$(as $r\\rightarrow\\infty$) and $\\sum_{i=1}^nc_iA(T,t_i)$(when $r=0$).\n",
    "* It can be checked that for the particular case at hand, $\\sum_{i=1}^nc_iA(T,t_i)>1$.\n",
    "\n",
    "Define $B(T,t_i,r)=A(T,t_i)e^{-C(T,t_i)r},F(T,t_i,r)=\\sum_{i=1}^nc_iB(T,t_i,r)$, and note that all these functions are decreasing in $r$. Then the swaption payoff can be rewritten as:\n",
    "\\begin{align*}\n",
    "N\\big(F(T,t_i,r)-F(T,t_i,r(T))\\big)^+&=N\\big(F(T,t_i,r)-F(T,t_i,r(T))\\big)I_{\\{F(T,t_i,r)\\geq F(T,t_i,r(T))\\}}\\\\\n",
    "&=N\\big(F(T,t_i,r)-F(T,t_i,r(T))\\big)I_{\\{r\\leq r(T)\\}}\\\\\n",
    "&=N\\sum_{i=1}^nc_i\\big(B(T,t_i,r)-B(T,t_i,r(T))\\big)I_{\\{r\\leq r(T)\\}}\\\\\n",
    "&=N\\sum_{i=1}^nc_i\\big(B(T,t_i,r)-B(T,t_i,r(T))\\big)I_{\\{B(T,t_i,r)\\geq B(T,t_i,r(T))\\}}\\\\\n",
    "&=N\\sum_{i=1}^nc_i\\big(B(T,t_i,r)-B(T,t_i,r(T))\\big)^+\n",
    "\\end{align*}\n",
    "\n",
    "So, the swaption price at time $t<T$ equals $N\\sum_{i=1}^nc_i\\text{ZBP}\\big(t,T,t_i,B(T,t_i,r)\\big)$, where $\\text{ZBP}\\big(t,T,S,X\\big)$ is the time $t$ price of an European put option with strike $X$, maturity $T$ which is written on a zero coupon bond with maturity $S$.\n",
    "\n",
    "It can be shown that $\\text{ZBP}\\big(t,T,S,X\\big)=XB(t,T)N(-h+\\sigma_p)-B(t,S)N(-h)$, where\n",
    "* $\\sigma_p=\\sigma C(T,S)\\sqrt{\\frac{1-e^{-2a(T-t)}}{2a}}$,\n",
    "* $h=\\frac{1}{\\sigma_p}\\log\\big(\\frac{B(t,S)}{B(t,T)X}\\big)+\\frac{\\sigma_p}{2}$,\n",
    "* $N$ is the cdf of the standard normal."
   ]
  },
  {
   "cell_type": "code",
   "execution_count": 15,
   "metadata": {},
   "outputs": [
    {
     "data": {
      "text/plain": [
       "1.150376460660852"
      ]
     },
     "execution_count": 15,
     "metadata": {},
     "output_type": "execute_result"
    }
   ],
   "source": [
    "# Checking that the sum c_iA(T,t_i) is greater than 1\n",
    "\n",
    "sum([c*A(T,t) for c,t in zip(coupon_values,time_to_payment_dates)])"
   ]
  },
  {
   "cell_type": "code",
   "execution_count": 16,
   "metadata": {},
   "outputs": [
    {
     "data": {
      "text/plain": [
       "0.04126849192432651"
      ]
     },
     "execution_count": 16,
     "metadata": {},
     "output_type": "execute_result"
    }
   ],
   "source": [
    "# Solving the equation in r\n",
    "\n",
    "def eqFunction(r):\n",
    "    return sum([c*A(T,t)*np.exp(-C(T,t)*r) for c,t in zip(coupon_values,time_to_payment_dates) ]) - 1\n",
    "\n",
    "soln_r = fsolve(eqFunction,0)[0]\n",
    "soln_r"
   ]
  },
  {
   "cell_type": "code",
   "execution_count": 17,
   "metadata": {},
   "outputs": [
    {
     "data": {
      "text/plain": [
       "array([0.97932099, 0.95856012, 0.93772882, 0.91683844, 0.89590031,\n",
       "       0.87492565, 0.85392565, 0.83291143])"
      ]
     },
     "execution_count": 17,
     "metadata": {},
     "output_type": "execute_result"
    }
   ],
   "source": [
    "# Determining the strikes of European put on zero coupon bonds\n",
    "\n",
    "strike_arr = np.array([A(T,t)*np.exp(-C(T,t)*soln_r) for t in time_to_payment_dates])\n",
    "strike_arr"
   ]
  },
  {
   "cell_type": "code",
   "execution_count": 18,
   "metadata": {},
   "outputs": [],
   "source": [
    "# The price function of European put on zero coupon bonds at time 0\n",
    "\n",
    "def ZBP(t1,t2,X):\n",
    "    sigma_p = sigma * C(t1,t2) * np.sqrt( (1-np.exp(-2*a*t1))/(2*a) )\n",
    "    h = (  (1/sigma_p) * np.log( initial_ts_bonds(t2)/(initial_ts_bonds(t1) * X) )  ) + (sigma_p/2)\n",
    "    return X*initial_ts_bonds(t1)*norm.cdf(-h+sigma_p) - initial_ts_bonds(t2)*norm.cdf(-h)"
   ]
  },
  {
   "cell_type": "code",
   "execution_count": 20,
   "metadata": {},
   "outputs": [
    {
     "data": {
      "text/plain": [
       "array([0.00107372, 0.00207421, 0.00300383, 0.00386491, 0.00465976,\n",
       "       0.00539063, 0.00605975, 0.00666929])"
      ]
     },
     "execution_count": 20,
     "metadata": {},
     "output_type": "execute_result"
    }
   ],
   "source": [
    "# Determining the prices of European put on zero coupon bonds\n",
    "\n",
    "price_arr = np.array([ZBP(T,t,strike) for t,strike in zip(time_to_payment_dates,strike_arr) ])\n",
    "price_arr"
   ]
  },
  {
   "cell_type": "code",
   "execution_count": 21,
   "metadata": {},
   "outputs": [
    {
     "data": {
      "text/plain": [
       "0.7425124083718546"
      ]
     },
     "execution_count": 21,
     "metadata": {},
     "output_type": "execute_result"
    }
   ],
   "source": [
    "# Swaption price using Jamshidian Decomposition\n",
    "\n",
    "swaption_price_JD = N * sum([c*price for c,price in zip(coupon_values,price_arr) ])\n",
    "swaption_price_JD"
   ]
  },
  {
   "cell_type": "code",
   "execution_count": null,
   "metadata": {},
   "outputs": [],
   "source": []
  }
 ],
 "metadata": {
  "kernelspec": {
   "display_name": "Python 3",
   "language": "python",
   "name": "python3"
  },
  "language_info": {
   "codemirror_mode": {
    "name": "ipython",
    "version": 3
   },
   "file_extension": ".py",
   "mimetype": "text/x-python",
   "name": "python",
   "nbconvert_exporter": "python",
   "pygments_lexer": "ipython3",
   "version": "3.7.6"
  }
 },
 "nbformat": 4,
 "nbformat_minor": 4
}
