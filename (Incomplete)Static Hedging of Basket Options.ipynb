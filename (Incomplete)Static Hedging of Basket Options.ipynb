{
 "cells": [
  {
   "cell_type": "code",
   "execution_count": 1,
   "metadata": {},
   "outputs": [],
   "source": [
    "import numpy as np\n",
    "import pandas as pd\n",
    "import matplotlib.pyplot as plt\n",
    "import seaborn as sns\n",
    "from scipy.stats import norm\n",
    "from scipy.optimize import fsolve\n",
    "%matplotlib inline"
   ]
  },
  {
   "cell_type": "code",
   "execution_count": 2,
   "metadata": {},
   "outputs": [],
   "source": [
    "# Stock prices(in USD) of biggest 3 car brands in US on 27/08/2020\n",
    "S10=29.48  #General Motors\n",
    "S20=11.29  #Fiat\n",
    "S30=6.82   #Ford\n",
    "\n",
    "# Annualized dividend yields of General Motors, Fiat and Ford as of 27/08/2020\n",
    "delta1=0.052\n",
    "delta2=0\n",
    "delta3=0.088\n",
    "\n",
    "# Implied volatility(annualized) of General Motors, Fiat and Ford as of 27/08/2020\n",
    "sigma1=0.43\n",
    "sigma2=0.38\n",
    "sigma3=0.4\n",
    "\n",
    "# US fed rate(annualized) as of 27/08/2020\n",
    "r=0.0025\n",
    "\n",
    "# Time to maturity for the basket option\n",
    "T=1  # 1 yr\n",
    "\n",
    "# Weights of each stock in the basket option\n",
    "a1=0.5\n",
    "a2=0.25\n",
    "a3=0.25\n",
    "\n",
    "# Strike price of the basket\n",
    "K=19.27  # K= 0.5*S10 + 0.25*S20 + 0.25*S30"
   ]
  },
  {
   "cell_type": "code",
   "execution_count": null,
   "metadata": {},
   "outputs": [],
   "source": []
  }
 ],
 "metadata": {
  "kernelspec": {
   "display_name": "Python 3",
   "language": "python",
   "name": "python3"
  },
  "language_info": {
   "codemirror_mode": {
    "name": "ipython",
    "version": 3
   },
   "file_extension": ".py",
   "mimetype": "text/x-python",
   "name": "python",
   "nbconvert_exporter": "python",
   "pygments_lexer": "ipython3",
   "version": "3.7.6"
  }
 },
 "nbformat": 4,
 "nbformat_minor": 4
}
