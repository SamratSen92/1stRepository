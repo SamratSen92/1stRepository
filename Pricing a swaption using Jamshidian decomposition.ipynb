{
 "cells": [
  {
   "cell_type": "code",
   "execution_count": 1,
   "metadata": {},
   "outputs": [],
   "source": [
    "import time\n",
    "import numpy as np\n",
    "import pandas as pd\n",
    "import matplotlib.pyplot as plt\n",
    "import numdifftools as nd\n",
    "from scipy.stats import norm\n",
    "from scipy.optimize import fsolve\n",
    "from scipy.interpolate import interp1d\n",
    "%matplotlib inline"
   ]
  },
  {
   "cell_type": "markdown",
   "metadata": {},
   "source": [
    "### The Hull and White Model\n",
    "\n",
    "The SDE of the short rate process $\\{r(t)\\}_{t\\geq0}$, under the risk neutral measure, is given by:\n",
    "$$dr(t)=[\\vartheta(t)-ar(t)]dt + \\sigma dW(t),$$\n",
    "where $a$ and $\\sigma$ are positive constants and the deterministic function $\\vartheta$ is chosen so as to exactly fit the initial term structure of interest rates $T\\mapsto B(0,T)$ as observed in the market. As a result, we must have,\n",
    "$$\\vartheta(t)=\\frac{\\partial}{\\partial T}\\big|_{T=t} f(0,t) + af(0,t) + \\frac{\\sigma^2}{2a}(1-e^{-2at}),$$\n",
    "where $f(0,t)=-\\frac{\\partial}{\\partial T}\\big|_{T=t}\\log B(0,t)$, is the instantaneous forward rate at time $0$ for the maturity $t$.\n",
    "\n",
    "For the Hull and White model, a zero coupon bond $B(t,S)$ at time $t$ with maturity $S$, can be explicitly calculated through the formula $B(t,S)=A(t,S)e^{-C(t,S)r(t)}$, where\n",
    "\\begin{align*}\n",
    "&C(t,S)=\\frac{1}{a}\\big[1-e^{-a(S-t)}\\big]\\\n",
    "&A(t,S)=\\frac{B(0,S)}{B(0,t)}\\exp\\big\\{C(t,S)f(0,t)-\\frac{\\sigma^2}{4a}(1-e^{-2at})C(t,S)^2\\big\\}.\n",
    "\\end{align*}\n",
    "Using this it can be deduced that, under the $S$-forward measure, the SDE is given by:\n",
    "$$dr(t)=[\\vartheta(t)-C(t,S)\\sigma^2-ar(t)]dt + \\sigma dW^S(t).$$\n",
    "This new SDE will be used to generate paths of $r(t)$ upto a time $T\\leq S$.\n",
    "\n",
    "**Note:** Here I have used dummy values of $a$ and $\\sigma$ to generate the short rate process. Ideally, these parameters should be estimated from the available swaption prices."
   ]
  },
  {
   "cell_type": "markdown",
   "metadata": {},
   "source": [
    "#### The initial zero-bond curve\n",
    "\n",
    "This is a dummy curve obtained from replicating a plot shown in Brigo-Mercurio, figure 1.2."
   ]
  },
  {
   "cell_type": "code",
   "execution_count": 2,
   "metadata": {},
   "outputs": [
    {
     "data": {
      "text/plain": [
       "Text(0, 0.5, 'Current Bond Price')"
      ]
     },
     "execution_count": 2,
     "metadata": {},
     "output_type": "execute_result"
    },
    {
     "data": {
      "image/png": "[encoded data removed]",
      "text/plain": [
       "<Figure size 432x288 with 1 Axes>"
      ]
     },
     "metadata": {
      "needs_background": "light"
     },
     "output_type": "display_data"
    }
   ],
   "source": [
    "x_arr = [5*n for n in range(7)]\n",
    "y_arr = [1,0.8,0.6,0.42,0.3,0.22,0.18]\n",
    "\n",
    "# Interpolating a function with the given data points--> t vs B(0,t)\n",
    "def initial_ts_bonds(t): \n",
    "    return float(interp1d(x_arr,y_arr,kind='cubic',fill_value='extrapolate')(t))  # using float as the interp1d output is an array\n",
    "\n",
    "x_pts = np.arange(31)\n",
    "y_pts = np.array([initial_ts_bonds(T) for T in x_pts])\n",
    "plt.plot(x_pts,y_pts)\n",
    "plt.title('Initial Zero-bond curve')\n",
    "plt.xlabel('Maturity(in years)')\n",
    "plt.yticks([0.1*n for n in range(1,11)])\n",
    "plt.ylabel('Current Bond Price')"
   ]
  },
  {
   "cell_type": "markdown",
   "metadata": {},
   "source": [
    "#### Setting the Hull and White parameters"
   ]
  },
  {
   "cell_type": "code",
   "execution_count": 3,
   "metadata": {},
   "outputs": [],
   "source": [
    "# The constant parameters of Hull and White\n",
    "a = 0.04642\n",
    "sigma = 0.00586\n",
    "\n",
    "def log_bond_curve(t):    # t vs logB(0,t)\n",
    "    return np.log(initial_ts_bonds(t))\n",
    "\n",
    "# instantaneous forward rate at time 0 with maturity t --> f(0,t)\n",
    "def inst_forward_rate(t):\n",
    "    return -float(nd.Derivative(log_bond_curve)(t))\n",
    "\n",
    "# derivative of the above forward rate wrt T(= double derivative of the initial bond curve wrt T)\n",
    "def derivative_forward_rate(t):\n",
    "    return float(nd.Derivative(inst_forward_rate)(t))\n",
    "    #return -float(nd.Derivative(log_bond_curve,order=4,n=2)(t))\n",
    "\n",
    "# The deterministic function parameter of Hull and White\n",
    "def HW_param1(t):  \n",
    "    component1 = derivative_forward_rate(t) + a*inst_forward_rate(t)\n",
    "    component2 = ( (sigma**2)/(2*a) ) * ( 1 - np.exp(-2*a*t) )\n",
    "    return component1 + component2"
   ]
  },
  {
   "cell_type": "markdown",
   "metadata": {},
   "source": [
    "#### Defining the components of a zero coupon bond price at time t > 0"
   ]
  },
  {
   "cell_type": "code",
   "execution_count": 4,
   "metadata": {},
   "outputs": [],
   "source": [
    "# Defining the function C(t,S)\n",
    "def C(t,S):\n",
    "    return ( 1 - np.exp(-a*(S-t)) )/a\n",
    "\n",
    "# Defining the function A(t,S)\n",
    "def A(t,S):\n",
    "    comp1 = initial_ts_bonds(S)/initial_ts_bonds(t)\n",
    "    comp2 = C(t,S) * inst_forward_rate(t)\n",
    "    comp3 = ( (sigma**2)/(4*a) ) * ( 1 - np.exp(-2*a*t) ) * ( C(t,S)**2 )\n",
    "    return comp1 * np.exp( comp2 - comp3 )"
   ]
  },
  {
   "cell_type": "markdown",
   "metadata": {},
   "source": [
    "### Pricing a swaption\n",
    "\n",
    "Consider a payer swaption with strike rate $K$, maturity $T$ and nominal value $N$, which gives the holder the right to enter into a payer swap at time at time $t_0=T$ with payment dates $t_1,\\ldots,t_n=S,t_i>T$, where he pays at the fixed rate $K$ and receives at the floating(LIBOR) rate $L(t_{i-1},t_i)$.\n",
    "\n",
    "The payoff of this swaption is given by \n",
    "$$N\\Big(\\sum_{i=1}^nB(T,t_i)(t_i-t_{i-1})\\big[F(T,t_{i-1},t_i)-K\\big]\\Big)^+=N\\big(1-\\sum_{i=1}^nc_iB(T,t_i)\\big)^+,$$\n",
    "where $c_i=K(t_i-t_{i-1}),c_n=\\big(1+K(t_i-t_{i-1})\\big)$, and $F(T,t_{i-1},t_i)=\\frac{B(T,t_{i-1})-B(T,t_i)}{(t_i-t_{i-1})B(T,t_i)}$ is the forward rate at time $T$ with expiry $t_{i-1}$ and maturity $t_i$, for $i\\in\\{1,\\ldots,n\\}$.\n",
    "\n",
    "To compute the current price of this swaption, the **Jamshidian Decomposition** will be used.\n",
    "\n",
    "Finally, it'll be assumed that the swaption is at the money, i.e., $K=\\frac{B(0,T)-B(0,S)}{\\sum_{i=1}^n(t_i-t_{i-1})B(0,t_i)}$, which is the swap rate of the underlying swap at time 0."
   ]
  },
  {
   "cell_type": "code",
   "execution_count": 5,
   "metadata": {},
   "outputs": [
    {
     "name": "stdout",
     "output_type": "stream",
     "text": [
      "Time to payment dates:  [1.5 2.  2.5 3.  3.5 4.  4.5 5. ] \n",
      "\n",
      "The strike rate:  0.046092690884860135 \n",
      "\n",
      "The coupon values:  [0.02304635 0.02304635 0.02304635 0.02304635 0.02304635 0.02304635\n",
      " 0.02304635 1.02304635]\n"
     ]
    }
   ],
   "source": [
    "S = 5                  # Time to (swap)maturity = 5 yr\n",
    "T = 1                  # Time to (swaption)maturity / short rate simulation final date = 1 yr\n",
    "\n",
    "# The notional value of the contract(= 100 USD)\n",
    "N = 100             \n",
    "\n",
    "# Time between the reset date and the next payment date\n",
    "tau = 0.5          # 0.5 yrs = 6 months\n",
    "\n",
    "# The payment and reset dates of the swaption\n",
    "# 1st reset date = the swaption maturity\n",
    "# 2nd reset date = 1st payment date, 3rd reset date = 2nd payment date, and so on. Last payment date(from current date) = 5 yrs\n",
    "time_to_payment_dates = np.arange(T+tau,S+tau,tau)\n",
    "print('Time to payment dates: ', time_to_payment_dates,'\\n')\n",
    "\n",
    "# The strike rate\n",
    "K = ( initial_ts_bonds(T)-initial_ts_bonds(S) )/( tau*sum([initial_ts_bonds(t) for t in time_to_payment_dates]) )\n",
    "print('The strike rate: ', K,'\\n')\n",
    "\n",
    "# The coupon amounts(=c_i)\n",
    "coupon_values = np.array([K*tau for i in range(len(time_to_payment_dates)-1)] + [1+K*tau])\n",
    "print('The coupon values: ', coupon_values)"
   ]
  },
  {
   "cell_type": "markdown",
   "metadata": {},
   "source": [
    "#### Jamshidian Decomposition\n",
    "\n",
    "To price the above swaption using Jamshidian decomposition, first one needs to solve the equation: $\\sum_{i=1}^nc_iA(T,t_i)e^{-C(T,t_i)r}=1$, for $r$. In this case, the equation is (theoritically)solvable by the intermediate value theorem, due to the following reasons:\n",
    "* The function $r\\mapsto\\sum_{i=1}^nc_iA(T,t_i)e^{-C(T,t_i)r}$ is continuous.\n",
    "* Range of this function lies between $0$(as $r\\rightarrow\\infty$) and $\\sum_{i=1}^nc_iA(T,t_i)$(when $r=0$).\n",
    "* It can be checked that for the particular case at hand, $\\sum_{i=1}^nc_iA(T,t_i)>1$.\n",
    "\n",
    "Define $B(T,t_i,r)=A(T,t_i)e^{-C(T,t_i)r},F(T,t_i,r)=\\sum_{i=1}^nc_iB(T,t_i,r)$, and note that all these functions are decreasing in $r$. Then the swaption payoff can be rewritten as:\n",
    "\\begin{align*}\n",
    "N\\big(F(T,t_i,r)-F(T,t_i,r(T))\\big)^+&=N\\big(F(T,t_i,r)-F(T,t_i,r(T))\\big)I_{\\{F(T,t_i,r)\\geq F(T,t_i,r(T))\\}}\\\\\n",
    "&=N\\big(F(T,t_i,r)-F(T,t_i,r(T))\\big)I_{\\{r\\leq r(T)\\}}\\\\\n",
    "&=N\\sum_{i=1}^nc_i\\big(B(T,t_i,r)-B(T,t_i,r(T))\\big)I_{\\{r\\leq r(T)\\}}\\\\\n",
    "&=N\\sum_{i=1}^nc_i\\big(B(T,t_i,r)-B(T,t_i,r(T))\\big)I_{\\{B(T,t_i,r)\\geq B(T,t_i,r(T))\\}}\\\\\n",
    "&=N\\sum_{i=1}^nc_i\\big(B(T,t_i,r)-B(T,t_i,r(T))\\big)^+\n",
    "\\end{align*}\n",
    "\n",
    "So, the swaption price at time $t<T$ equals $N\\sum_{i=1}^nc_i\\text{ZBP}\\big(t,T,t_i,B(T,t_i,r)\\big)$, where $\\text{ZBP}\\big(t,T,S,X\\big)$ is the time $t$ price of an European put option with strike $X$, maturity $T$ which is written on a zero coupon bond with maturity $S$.\n",
    "\n",
    "It can be shown that $\\text{ZBP}\\big(t,T,S,X\\big)=XB(t,T)N(-h+\\sigma_p)-B(t,S)N(-h)$, where\n",
    "* $\\sigma_p=\\sigma C(T,S)\\sqrt{\\frac{1-e^{-2a(T-t)}}{2a}}$,\n",
    "* $h=\\frac{1}{\\sigma_p}\\log\\big(\\frac{B(t,S)}{B(t,T)X}\\big)+\\frac{\\sigma_p}{2}$,\n",
    "* $N$ is the cdf of the standard normal."
   ]
  },
  {
   "cell_type": "code",
   "execution_count": 6,
   "metadata": {},
   "outputs": [
    {
     "data": {
      "text/plain": [
       "1.150376460660852"
      ]
     },
     "execution_count": 6,
     "metadata": {},
     "output_type": "execute_result"
    }
   ],
   "source": [
    "# Checking that the sum c_iA(T,t_i) is greater than 1\n",
    "\n",
    "sum([c*A(T,t) for c,t in zip(coupon_values,time_to_payment_dates)])"
   ]
  },
  {
   "cell_type": "code",
   "execution_count": 7,
   "metadata": {},
   "outputs": [
    {
     "data": {
      "text/plain": [
       "0.04126849192432651"
      ]
     },
     "execution_count": 7,
     "metadata": {},
     "output_type": "execute_result"
    }
   ],
   "source": [
    "# Solving the equation in r\n",
    "\n",
    "def eqFunction(r):\n",
    "    return sum([c*A(T,t)*np.exp(-C(T,t)*r) for c,t in zip(coupon_values,time_to_payment_dates) ]) - 1\n",
    "\n",
    "soln_r = fsolve(eqFunction,0)[0]\n",
    "soln_r"
   ]
  },
  {
   "cell_type": "code",
   "execution_count": 8,
   "metadata": {},
   "outputs": [
    {
     "data": {
      "text/plain": [
       "array([0.97932099, 0.95856012, 0.93772882, 0.91683844, 0.89590031,\n",
       "       0.87492565, 0.85392565, 0.83291143])"
      ]
     },
     "execution_count": 8,
     "metadata": {},
     "output_type": "execute_result"
    }
   ],
   "source": [
    "# Determining the strikes of European put on zero coupon bonds\n",
    "\n",
    "strike_arr = np.array([A(T,t)*np.exp(-C(T,t)*soln_r) for t in time_to_payment_dates])\n",
    "strike_arr"
   ]
  },
  {
   "cell_type": "code",
   "execution_count": 9,
   "metadata": {},
   "outputs": [],
   "source": [
    "# The price function of European put on zero coupon bonds at time 0\n",
    "\n",
    "def ZBP(t1,t2,X):\n",
    "    sigma_p = sigma * C(t1,t2) * np.sqrt( (1-np.exp(-2*a*t1))/(2*a) )\n",
    "    h = (  (1/sigma_p) * np.log( initial_ts_bonds(t2)/(initial_ts_bonds(t1) * X) )  ) + (sigma_p/2)\n",
    "    return X*initial_ts_bonds(t1)*norm.cdf(-h+sigma_p) - initial_ts_bonds(t2)*norm.cdf(-h)"
   ]
  },
  {
   "cell_type": "code",
   "execution_count": 10,
   "metadata": {},
   "outputs": [
    {
     "data": {
      "text/plain": [
       "array([0.00107372, 0.00207421, 0.00300383, 0.00386491, 0.00465976,\n",
       "       0.00539063, 0.00605975, 0.00666929])"
      ]
     },
     "execution_count": 10,
     "metadata": {},
     "output_type": "execute_result"
    }
   ],
   "source": [
    "# Determining the prices of European put on zero coupon bonds\n",
    "\n",
    "price_arr = np.array([ZBP(T,t,strike) for t,strike in zip(time_to_payment_dates,strike_arr) ])\n",
    "price_arr"
   ]
  },
  {
   "cell_type": "code",
   "execution_count": 11,
   "metadata": {},
   "outputs": [
    {
     "data": {
      "text/plain": [
       "0.7425124083718546"
      ]
     },
     "execution_count": 11,
     "metadata": {},
     "output_type": "execute_result"
    }
   ],
   "source": [
    "# Swaption price using Jamshidian Decomposition\n",
    "\n",
    "swaption_price_JD = N * sum([c*price for c,price in zip(coupon_values,price_arr) ])\n",
    "swaption_price_JD"
   ]
  },
  {
   "cell_type": "code",
   "execution_count": null,
   "metadata": {},
   "outputs": [],
   "source": []
  }
 ],
 "metadata": {
  "kernelspec": {
   "display_name": "Python 3",
   "language": "python",
   "name": "python3"
  },
  "language_info": {
   "codemirror_mode": {
    "name": "ipython",
    "version": 3
   },
   "file_extension": ".py",
   "mimetype": "text/x-python",
   "name": "python",
   "nbconvert_exporter": "python",
   "pygments_lexer": "ipython3",
   "version": "3.7.6"
  }
 },
 "nbformat": 4,
 "nbformat_minor": 4
}
