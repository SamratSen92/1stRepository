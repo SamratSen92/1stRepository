{
 "cells": [
  {
   "cell_type": "code",
   "execution_count": 1,
   "metadata": {},
   "outputs": [],
   "source": [
    "import time\n",
    "import numpy as np\n",
    "import pandas as pd\n",
    "import matplotlib.pyplot as plt\n",
    "import numdifftools as nd\n",
    "from scipy.stats import norm\n",
    "from scipy.optimize import fsolve\n",
    "from scipy.interpolate import interp1d\n",
    "%matplotlib inline"
   ]
  },
  {
   "cell_type": "markdown",
   "metadata": {},
   "source": [
    "### The Hull and White Model\n",
    "\n",
    "The SDE of the short rate process $\\{r(t)\\}_{t\\geq0}$, under the risk neutral measure, is given by:\n",
    "$$dr(t)=[\\vartheta(t)-ar(t)]dt + \\sigma dW(t),$$\n",
    "where $a$ and $\\sigma$ are positive constants and the deterministic function $\\vartheta$ is chosen so as to exactly fit the initial term structure of interest rates $T\\mapsto B(0,T)$ as observed in the market. As a result, we must have,\n",
    "$$\\vartheta(t)=\\frac{\\partial}{\\partial T}\\big|_{T=t} f(0,t) + af(0,t) + \\frac{\\sigma^2}{2a}(1-e^{-2at}),$$\n",
    "where $f(0,t)=-\\frac{\\partial}{\\partial T}\\big|_{T=t}\\log B(0,t)$, is the instantaneous forward rate at time $0$ for the maturity $t$.\n",
    "\n",
    "For the Hull and White model, a zero coupon bond $B(t,S)$ at time $t$ with maturity $S$, can be explicitly calculated through the formula $B(t,S)=A(t,S)e^{-C(t,S)r(t)}$, where\n",
    "\\begin{align*}\n",
    "&C(t,S)=\\frac{1}{a}\\big[1-e^{-a(S-t)}\\big]\\\n",
    "&A(t,S)=\\frac{B(0,S)}{B(0,t)}\\exp\\big\\{C(t,S)f(0,t)-\\frac{\\sigma^2}{4a}(1-e^{-2at})C(t,S)^2\\big\\}.\n",
    "\\end{align*}\n",
    "Using this it can be deduced that, under the $S$-forward measure, the SDE is given by:\n",
    "$$dr(t)=[\\vartheta(t)-C(t,S)\\sigma^2-ar(t)]dt + \\sigma dW^S(t).$$\n",
    "This new SDE will be used to generate paths of $r(t)$ upto a time $T\\leq S$.\n",
    "\n",
    "**Note:** Here I have used dummy values of $a$ and $\\sigma$ to generate the short rate process. Ideally, these parameters should be estimated from the available swaption prices."
   ]
  },
  {
   "cell_type": "markdown",
   "metadata": {},
   "source": [
    "#### The initial zero-bond curve\n",
    "\n",
    "This is a dummy curve obtained from replicating a plot shown in Brigo-Mercurio, figure 1.2."
   ]
  },
  {
   "cell_type": "code",
   "execution_count": 2,
   "metadata": {},
   "outputs": [
    {
     "data": {
      "text/plain": [
       "Text(0, 0.5, 'Current Bond Price')"
      ]
     },
     "execution_count": 2,
     "metadata": {},
     "output_type": "execute_result"
    },
    {
     "data": {
      "image/png": "[encoded data removed]",
      "text/plain": [
       "<Figure size 432x288 with 1 Axes>"
      ]
     },
     "metadata": {
      "needs_background": "light"
     },
     "output_type": "display_data"
    }
   ],
   "source": [
    "x_arr = [5*n for n in range(7)]\n",
    "y_arr = [1,0.8,0.6,0.42,0.3,0.22,0.18]\n",
    "\n",
    "# Interpolating a function with the given data points--> t vs B(0,t)\n",
    "def initial_ts_bonds(t): \n",
    "    return float(interp1d(x_arr,y_arr,kind='cubic',fill_value='extrapolate')(t))  # using float as the interp1d output is an array\n",
    "\n",
    "x_pts = np.arange(31)\n",
    "y_pts = np.array([initial_ts_bonds(T) for T in x_pts])\n",
    "plt.plot(x_pts,y_pts)\n",
    "plt.title('Initial Zero-bond curve')\n",
    "plt.xlabel('Maturity(in years)')\n",
    "plt.yticks([0.1*n for n in range(1,11)])\n",
    "plt.ylabel('Current Bond Price')"
   ]
  },
  {
   "cell_type": "markdown",
   "metadata": {},
   "source": [
    "#### Setting the Hull and White parameters"
   ]
  },
  {
   "cell_type": "code",
   "execution_count": 3,
   "metadata": {},
   "outputs": [],
   "source": [
    "# The constant parameters of Hull and White\n",
    "a = 0.04642\n",
    "sigma = 0.00586\n",
    "\n",
    "def log_bond_curve(t):    # t vs logB(0,t)\n",
    "    return np.log(initial_ts_bonds(t))\n",
    "\n",
    "# instantaneous forward rate at time 0 with maturity t --> f(0,t)\n",
    "def inst_forward_rate(t):\n",
    "    return -float(nd.Derivative(log_bond_curve)(t))\n",
    "\n",
    "# derivative of the above forward rate wrt T(= double derivative of the initial bond curve wrt T)\n",
    "def derivative_forward_rate(t):\n",
    "    return float(nd.Derivative(inst_forward_rate)(t))\n",
    "    #return -float(nd.Derivative(log_bond_curve,order=4,n=2)(t))\n",
    "\n",
    "# The deterministic function parameter of Hull and White\n",
    "def HW_param1(t):  \n",
    "    component1 = derivative_forward_rate(t) + a*inst_forward_rate(t)\n",
    "    component2 = ( (sigma**2)/(2*a) ) * ( 1 - np.exp(-2*a*t) )\n",
    "    return component1 + component2"
   ]
  },
  {
   "cell_type": "code",
   "execution_count": 4,
   "metadata": {},
   "outputs": [
    {
     "data": {
      "text/plain": [
       "0.039333333333334386"
      ]
     },
     "execution_count": 4,
     "metadata": {},
     "output_type": "execute_result"
    }
   ],
   "source": [
    "# This is f(0,0)\n",
    "\n",
    "inst_forward_rate(0)"
   ]
  },
  {
   "cell_type": "markdown",
   "metadata": {},
   "source": [
    "#### Simulating the short rate upto 1 year(under the 1yr-forward measure)"
   ]
  },
  {
   "cell_type": "code",
   "execution_count": 5,
   "metadata": {},
   "outputs": [],
   "source": [
    "S = 5                  # Time to (swap)maturity = 5 yr\n",
    "T = 1                  # Time to (swaption)maturity / short rate simulation final date = 1 yr\n",
    "\n",
    "# Since f(t,t)=r(t), we'll set the initial short rate as f(0,0) obtained above\n",
    "r0 = 0.039             # Initial short rate = 3.9% \n",
    "step = 0.01            # Simulation time step = 0.01 yr\n",
    "\n",
    "# Defining the function C(t,S)\n",
    "def C(t,S):\n",
    "    return ( 1 - np.exp(-a*(S-t)) )/a\n",
    "\n",
    "# Defining the function A(t,S)\n",
    "def A(t,S):\n",
    "    comp1 = initial_ts_bonds(S)/initial_ts_bonds(t)\n",
    "    comp2 = C(t,S) * inst_forward_rate(t)\n",
    "    comp3 = ( (sigma**2)/(4*a) ) * ( 1 - np.exp(-2*a*t) ) * ( C(t,S)**2 )\n",
    "    return comp1 * np.exp( comp2 - comp3 )"
   ]
  },
  {
   "cell_type": "code",
   "execution_count": null,
   "metadata": {},
   "outputs": [],
   "source": []
  },
  {
   "cell_type": "markdown",
   "metadata": {},
   "source": [
    "#### Simulation under the risk neutral measure"
   ]
  },
  {
   "cell_type": "code",
   "execution_count": 6,
   "metadata": {},
   "outputs": [],
   "source": [
    "# Initializing the matrix that will contain the short rate data simulated by HW model\n",
    "# Rows of this matrix indicate different time steps upto final date of simulation\n",
    "# Columns of this matrix indicate different paths\n",
    "Simulated_rates_RN = np.zeros((101,1000))\n",
    "\n",
    "Simulated_rates_RN[0] = r0    # Time 0 values of the short rate process along all the paths\n",
    "\n",
    "for i in range(1,101):\n",
    "    np.random.seed(i)\n",
    "    comp1 = Simulated_rates_RN[i-1] + ( HW_param1(step*(i-1)) - a*Simulated_rates_RN[i-1] )*step\n",
    "    comp2 = sigma * np.sqrt(step) * np.random.randn(1000)\n",
    "    Simulated_rates_RN[i] = comp1 + comp2"
   ]
  },
  {
   "cell_type": "code",
   "execution_count": 7,
   "metadata": {},
   "outputs": [
    {
     "data": {
      "text/plain": [
       "array([0.0401915 , 0.04155163, 0.03667367, 0.0303522 , 0.03653884,\n",
       "       0.03622309, 0.03213195, 0.04143118, 0.0377158 , 0.04210443,\n",
       "       0.045814  , 0.04131609, 0.03489612, 0.03695001, 0.03772029,\n",
       "       0.0349883 , 0.0484488 , 0.05230699, 0.04428529, 0.04359063,\n",
       "       0.03384482, 0.02993276, 0.04709566, 0.04545842, 0.04002637,\n",
       "       0.04042103, 0.04562945, 0.04217427, 0.04637795, 0.03410229,\n",
       "       0.03918492, 0.03579857, 0.03212606, 0.03865013, 0.02834292,\n",
       "       0.03417899, 0.03840988, 0.03937001, 0.03608159, 0.0428379 ,\n",
       "       0.04547786, 0.03732713, 0.03752881, 0.04475478, 0.05150586,\n",
       "       0.03747235, 0.03035364, 0.04969308, 0.03102358, 0.0454732 ,\n",
       "       0.04229954, 0.03621263, 0.03385878, 0.04520628, 0.04096077,\n",
       "       0.05477914, 0.04865335, 0.04415282, 0.03836381, 0.0394806 ,\n",
       "       0.03967639, 0.03858937, 0.04087132, 0.04391919, 0.0453966 ,\n",
       "       0.04115608, 0.04053151, 0.04227663, 0.04781992, 0.0524743 ,\n",
       "       0.04771093, 0.04572701, 0.03841335, 0.04764498, 0.04834252,\n",
       "       0.04823945, 0.04615357, 0.04361837, 0.04397492, 0.03065574,\n",
       "       0.04902412, 0.04034862, 0.04160346, 0.04572128, 0.04225946,\n",
       "       0.04687376, 0.04905256, 0.02752324, 0.03516044, 0.0197565 ,\n",
       "       0.04573657, 0.03756189, 0.04574166, 0.04487089, 0.04244504,\n",
       "       0.04551794, 0.05112568, 0.04280961, 0.03680227, 0.04897467,\n",
       "       0.03671754, 0.04397334, 0.0327299 , 0.04462437, 0.04196151,\n",
       "       0.04745803, 0.04086357, 0.03960433, 0.04143161, 0.03896302,\n",
       "       0.03750757, 0.04193622, 0.03649249, 0.03656325, 0.03575464,\n",
       "       0.03122966, 0.03941511, 0.04232867, 0.03382509, 0.0390649 ,\n",
       "       0.03466374, 0.04786071, 0.05356172, 0.04103479, 0.03895591,\n",
       "       0.04534753, 0.04579433, 0.03399867, 0.03853409, 0.04508742,\n",
       "       0.03685572, 0.03276418, 0.03624221, 0.0385815 , 0.03829457,\n",
       "       0.04157764, 0.05307875, 0.04253813, 0.03845064, 0.04015398,\n",
       "       0.04680984, 0.04224587, 0.02618946, 0.03806588, 0.04931768,\n",
       "       0.0376894 , 0.04063348, 0.02804104, 0.0371793 , 0.04226016,\n",
       "       0.04844842, 0.04953   , 0.04286743, 0.04108682, 0.04024604,\n",
       "       0.04320772, 0.04813421, 0.03444846, 0.03980842, 0.0365828 ,\n",
       "       0.04232383, 0.03164235, 0.03643851, 0.03964017, 0.04174621,\n",
       "       0.04239833, 0.04731858, 0.0502244 , 0.038309  , 0.05297876,\n",
       "       0.03683334, 0.03269937, 0.04889834, 0.05162003, 0.04169554,\n",
       "       0.03521861, 0.04365494, 0.03838864, 0.03194706, 0.04340588,\n",
       "       0.03144067, 0.04644704, 0.04530357, 0.04422783, 0.04542569,\n",
       "       0.03740161, 0.03952212, 0.04188042, 0.03935245, 0.04088024,\n",
       "       0.04154069, 0.04003485, 0.04173521, 0.0390166 , 0.04227463,\n",
       "       0.04626782, 0.04454298, 0.04394343, 0.03808623, 0.03864979,\n",
       "       0.05332682, 0.05134403, 0.03955615, 0.04061422, 0.04406686,\n",
       "       0.04912059, 0.04195464, 0.03927426, 0.04083239, 0.04364137,\n",
       "       0.03870424, 0.04429823, 0.03837638, 0.03380281, 0.03929643,\n",
       "       0.03592757, 0.04352776, 0.04497753, 0.04555896, 0.03422474,\n",
       "       0.04445423, 0.0376002 , 0.04116329, 0.03367006, 0.04579971,\n",
       "       0.04983909, 0.03512033, 0.03859281, 0.03765289, 0.03532794,\n",
       "       0.0360303 , 0.04493563, 0.04166004, 0.03914806, 0.04206392,\n",
       "       0.04203658, 0.04451683, 0.04491926, 0.02608944, 0.04821872,\n",
       "       0.03772496, 0.03022259, 0.03970683, 0.03473285, 0.04190063,\n",
       "       0.04758575, 0.03840417, 0.03377603, 0.04800816, 0.02849644,\n",
       "       0.0474433 , 0.05218301, 0.04757055, 0.04526635, 0.03341036,\n",
       "       0.03733052, 0.03919741, 0.04122767, 0.04692545, 0.04096071,\n",
       "       0.04609828, 0.05015996, 0.0366233 , 0.04260608, 0.03592436,\n",
       "       0.04230905, 0.04262932, 0.04303241, 0.03508701, 0.03896364,\n",
       "       0.04846113, 0.04262797, 0.03865633, 0.0330744 , 0.04373259,\n",
       "       0.03640576, 0.0400366 , 0.03826715, 0.03666245, 0.03251688,\n",
       "       0.04376282, 0.0352736 , 0.03942169, 0.04455709, 0.04496413,\n",
       "       0.03884565, 0.04997931, 0.04529679, 0.02738003, 0.0424976 ,\n",
       "       0.05030446, 0.04313183, 0.03456423, 0.04512611, 0.05054129,\n",
       "       0.03882921, 0.03723492, 0.03913426, 0.04449095, 0.03131053,\n",
       "       0.04632994, 0.04171406, 0.0420392 , 0.04691663, 0.03230434,\n",
       "       0.04627407, 0.05220959, 0.03349968, 0.0421956 , 0.04985504,\n",
       "       0.05477154, 0.04253925, 0.04102355, 0.0324582 , 0.04075171,\n",
       "       0.03861727, 0.04624402, 0.04052333, 0.04960899, 0.02804866,\n",
       "       0.04719872, 0.03526513, 0.03276828, 0.03553091, 0.03390494,\n",
       "       0.04436406, 0.03835604, 0.04526532, 0.04369023, 0.03391993,\n",
       "       0.0385329 , 0.02858925, 0.05473646, 0.02820338, 0.03710259,\n",
       "       0.03330138, 0.04391077, 0.05276783, 0.04852524, 0.03693373,\n",
       "       0.05313874, 0.02373866, 0.04143732, 0.0432775 , 0.05180155,\n",
       "       0.04346913, 0.04030013, 0.04931928, 0.04290247, 0.05044104,\n",
       "       0.0463268 , 0.05124175, 0.03565947, 0.03796817, 0.04158176,\n",
       "       0.0383433 , 0.03709602, 0.03917439, 0.0336654 , 0.02995174,\n",
       "       0.03900965, 0.03243872, 0.04078324, 0.043006  , 0.03317892,\n",
       "       0.03938808, 0.03644809, 0.03984936, 0.02832527, 0.04250186,\n",
       "       0.02899298, 0.03315209, 0.040981  , 0.04401322, 0.04750387,\n",
       "       0.03311678, 0.0388352 , 0.05119827, 0.04487867, 0.03030796,\n",
       "       0.04889914, 0.03947199, 0.04236567, 0.04462903, 0.04092023,\n",
       "       0.04120017, 0.03989667, 0.04225389, 0.0373655 , 0.03310961,\n",
       "       0.04063927, 0.03337598, 0.04195949, 0.04464019, 0.04912359,\n",
       "       0.04523557, 0.0431831 , 0.035547  , 0.03981656, 0.0377364 ,\n",
       "       0.04634847, 0.03848205, 0.04523822, 0.04344937, 0.02783603,\n",
       "       0.03214358, 0.04400055, 0.02719987, 0.04136141, 0.04394848,\n",
       "       0.04263746, 0.03949792, 0.03818238, 0.04540399, 0.04089213,\n",
       "       0.03618203, 0.04521363, 0.04741476, 0.04881478, 0.0367534 ,\n",
       "       0.04608622, 0.03984867, 0.0439167 , 0.04016399, 0.0412608 ,\n",
       "       0.04138837, 0.03898215, 0.04125835, 0.03705415, 0.03446897,\n",
       "       0.04329529, 0.03671735, 0.02909675, 0.04069681, 0.03611729,\n",
       "       0.03720345, 0.04148411, 0.0341171 , 0.03992744, 0.03526871,\n",
       "       0.04134893, 0.04378815, 0.04195488, 0.04582503, 0.03333119,\n",
       "       0.04462836, 0.03749797, 0.03969412, 0.04399278, 0.03539247,\n",
       "       0.04943641, 0.03878174, 0.04473658, 0.03157389, 0.03839888,\n",
       "       0.04392036, 0.04119099, 0.04126319, 0.04086496, 0.03660677,\n",
       "       0.04434851, 0.03955115, 0.04874625, 0.04199292, 0.05581556,\n",
       "       0.032776  , 0.04551836, 0.04581498, 0.04392249, 0.04480396,\n",
       "       0.03938195, 0.045245  , 0.03963526, 0.04673874, 0.04296676,\n",
       "       0.04144289, 0.0585794 , 0.03547751, 0.03460576, 0.04288837,\n",
       "       0.03593984, 0.03435707, 0.04671788, 0.04320863, 0.04417779,\n",
       "       0.03549497, 0.04830004, 0.03892737, 0.04285608, 0.03674759,\n",
       "       0.04252055, 0.03992344, 0.04780457, 0.02822129, 0.03666569,\n",
       "       0.03105843, 0.04290234, 0.04322364, 0.03653475, 0.0324507 ,\n",
       "       0.03970495, 0.03963926, 0.04369588, 0.04168303, 0.04150612,\n",
       "       0.0392231 , 0.04329264, 0.04537122, 0.03808522, 0.04270835,\n",
       "       0.04184108, 0.03348397, 0.04205399, 0.03455654, 0.0304475 ,\n",
       "       0.04268723, 0.04083988, 0.03971653, 0.04138577, 0.03902778,\n",
       "       0.0483107 , 0.04280482, 0.03872418, 0.04280019, 0.03987171,\n",
       "       0.03208754, 0.04833985, 0.0403667 , 0.04787457, 0.02796145,\n",
       "       0.04679337, 0.03820999, 0.04177026, 0.03786597, 0.03828991,\n",
       "       0.04499993, 0.04186896, 0.03957398, 0.04210661, 0.04373824,\n",
       "       0.03687689, 0.04867367, 0.04604734, 0.03288486, 0.03339899,\n",
       "       0.04981089, 0.05128774, 0.04120062, 0.03927544, 0.04252883,\n",
       "       0.03920902, 0.04051054, 0.03712562, 0.03340571, 0.04243322,\n",
       "       0.04004855, 0.03540125, 0.04425366, 0.03657792, 0.03326251,\n",
       "       0.0392669 , 0.04360277, 0.04706633, 0.03729307, 0.03924632,\n",
       "       0.04491912, 0.03392571, 0.03840284, 0.04582134, 0.04473545,\n",
       "       0.03275563, 0.04608492, 0.03994752, 0.04497647, 0.03242059,\n",
       "       0.03699149, 0.0354335 , 0.03748994, 0.04180902, 0.03444075,\n",
       "       0.04223164, 0.02546898, 0.03956491, 0.04622641, 0.03950875,\n",
       "       0.04070448, 0.04058093, 0.02794213, 0.04668487, 0.0447454 ,\n",
       "       0.04035834, 0.03868571, 0.04501591, 0.04046173, 0.05105787,\n",
       "       0.04501863, 0.03593288, 0.03937486, 0.05232238, 0.0495871 ,\n",
       "       0.04544268, 0.04796446, 0.03872214, 0.04572995, 0.04749574,\n",
       "       0.03241119, 0.03098309, 0.0425616 , 0.03835268, 0.03502004,\n",
       "       0.04542966, 0.04980895, 0.051868  , 0.04082114, 0.04005677,\n",
       "       0.03614867, 0.04864309, 0.04768108, 0.04745853, 0.04586337,\n",
       "       0.03939141, 0.03856992, 0.04917081, 0.04496993, 0.04962239,\n",
       "       0.03855813, 0.04157545, 0.0414946 , 0.03962707, 0.04823642,\n",
       "       0.03674655, 0.04240352, 0.04942771, 0.03960442, 0.04064042,\n",
       "       0.03657033, 0.03771009, 0.05160589, 0.04258668, 0.03123305,\n",
       "       0.03994258, 0.0427845 , 0.04990546, 0.03675191, 0.03462396,\n",
       "       0.04322882, 0.0371381 , 0.03612908, 0.04120258, 0.03913257,\n",
       "       0.04036666, 0.05101968, 0.04208611, 0.03455527, 0.0381411 ,\n",
       "       0.03561643, 0.04569241, 0.05378086, 0.03984317, 0.03918627,\n",
       "       0.0381245 , 0.03306607, 0.04912845, 0.03373284, 0.04542695,\n",
       "       0.02953384, 0.04422143, 0.04870112, 0.03560298, 0.03829179,\n",
       "       0.0447943 , 0.04238204, 0.0445401 , 0.04456215, 0.04040042,\n",
       "       0.04447253, 0.04935132, 0.03712219, 0.04277417, 0.03689619,\n",
       "       0.0423481 , 0.04047032, 0.03165552, 0.04570016, 0.02709537,\n",
       "       0.03669238, 0.03399772, 0.04265942, 0.04524221, 0.04040373,\n",
       "       0.0496229 , 0.03908207, 0.05313684, 0.03312123, 0.04853073,\n",
       "       0.03873476, 0.04470266, 0.04658754, 0.05887746, 0.04954576,\n",
       "       0.04448205, 0.04369525, 0.03650241, 0.04644641, 0.05724917,\n",
       "       0.03619141, 0.03310155, 0.03848688, 0.04255219, 0.04204828,\n",
       "       0.0426426 , 0.05215298, 0.04554534, 0.04637094, 0.04593989,\n",
       "       0.04250519, 0.04400657, 0.03935218, 0.04240061, 0.03728064,\n",
       "       0.03784197, 0.04172939, 0.03349584, 0.04934616, 0.04556036,\n",
       "       0.05102928, 0.03799357, 0.04665418, 0.04588533, 0.04389614,\n",
       "       0.03519606, 0.0356786 , 0.05368565, 0.03841587, 0.03958603,\n",
       "       0.04400591, 0.03781064, 0.04516171, 0.04436242, 0.0381331 ,\n",
       "       0.04216047, 0.03921787, 0.04484   , 0.04461227, 0.04695275,\n",
       "       0.04031755, 0.03182033, 0.04973382, 0.03709978, 0.03418832,\n",
       "       0.04030982, 0.04112416, 0.03809932, 0.04572495, 0.03478219,\n",
       "       0.04002717, 0.03783976, 0.03714301, 0.04094671, 0.04401442,\n",
       "       0.04855265, 0.04879415, 0.0416128 , 0.03838081, 0.04253028,\n",
       "       0.03888266, 0.03732481, 0.03706089, 0.0429445 , 0.0410723 ,\n",
       "       0.03967159, 0.04171615, 0.04768523, 0.0455931 , 0.03935249,\n",
       "       0.0431649 , 0.04532832, 0.03130197, 0.0394849 , 0.04670966,\n",
       "       0.03912713, 0.03596784, 0.04140652, 0.0450622 , 0.04116254,\n",
       "       0.0431587 , 0.04744955, 0.03888969, 0.04523365, 0.03649508,\n",
       "       0.03391656, 0.0501464 , 0.03288554, 0.04420136, 0.04045451,\n",
       "       0.04033965, 0.04433816, 0.0359313 , 0.04141993, 0.03788329,\n",
       "       0.04826337, 0.03545191, 0.04057271, 0.03387079, 0.0429542 ,\n",
       "       0.03603905, 0.03626156, 0.0443991 , 0.04009108, 0.04781219,\n",
       "       0.04448916, 0.03867846, 0.04733482, 0.04763717, 0.0417307 ,\n",
       "       0.03310255, 0.02870148, 0.03277668, 0.03544479, 0.04916214,\n",
       "       0.03518666, 0.04374486, 0.03667749, 0.03669432, 0.0446497 ,\n",
       "       0.04415091, 0.04467874, 0.03871626, 0.04016526, 0.05452275,\n",
       "       0.03678752, 0.0490143 , 0.04488268, 0.04144782, 0.03240409,\n",
       "       0.04327009, 0.04794536, 0.05685817, 0.03586291, 0.04183544,\n",
       "       0.0430458 , 0.0389301 , 0.04296367, 0.04497842, 0.04228055,\n",
       "       0.05231861, 0.04052551, 0.04467869, 0.03289437, 0.04715587,\n",
       "       0.04132309, 0.04839144, 0.04499597, 0.04235851, 0.05334708,\n",
       "       0.04872047, 0.03511237, 0.03590107, 0.03665952, 0.03601877,\n",
       "       0.04639318, 0.04084084, 0.04661766, 0.05329535, 0.03129566,\n",
       "       0.04074403, 0.04379647, 0.03197417, 0.03412526, 0.0467358 ,\n",
       "       0.04911843, 0.03747736, 0.04157266, 0.03759522, 0.03044246,\n",
       "       0.0453776 , 0.04286407, 0.05234057, 0.0335205 , 0.04148788,\n",
       "       0.03442512, 0.03421683, 0.04404915, 0.04433927, 0.04240383,\n",
       "       0.04471764, 0.03601455, 0.04419509, 0.0449573 , 0.0444541 ,\n",
       "       0.04267427, 0.03777161, 0.04098784, 0.03590006, 0.03594443,\n",
       "       0.03435392, 0.04011109, 0.03618183, 0.04513669, 0.03996328,\n",
       "       0.05030122, 0.045604  , 0.03752054, 0.04523422, 0.03322927,\n",
       "       0.04874793, 0.04511316, 0.04224148, 0.04533427, 0.04027832,\n",
       "       0.05102479, 0.03558331, 0.04011895, 0.04486356, 0.03989184,\n",
       "       0.04453281, 0.03573621, 0.03993765, 0.04170153, 0.04268061,\n",
       "       0.04543862, 0.04616794, 0.04870815, 0.03908556, 0.04292279,\n",
       "       0.03523331, 0.04239191, 0.04392814, 0.048333  , 0.05063995,\n",
       "       0.03964079, 0.03779473, 0.03551812, 0.03996123, 0.03904372,\n",
       "       0.03577782, 0.03596586, 0.04320881, 0.04115474, 0.03849176,\n",
       "       0.04114258, 0.05065166, 0.03877659, 0.03359407, 0.04024489,\n",
       "       0.04374202, 0.03595951, 0.03180975, 0.03905736, 0.04351474,\n",
       "       0.03823936, 0.03819567, 0.04222754, 0.04258289, 0.04018472,\n",
       "       0.03947065, 0.04111064, 0.04659561, 0.03636162, 0.05422988,\n",
       "       0.05020046, 0.04324723, 0.0375953 , 0.04434148, 0.04005494,\n",
       "       0.03267647, 0.0325372 , 0.04615112, 0.05311371, 0.03753371,\n",
       "       0.03819666, 0.0380649 , 0.04431469, 0.04105408, 0.04257312,\n",
       "       0.03955505, 0.04455715, 0.04138125, 0.04251319, 0.04855429,\n",
       "       0.04385406, 0.03663451, 0.047467  , 0.0432724 , 0.03586445,\n",
       "       0.03674795, 0.04157389, 0.03614793, 0.04335266, 0.04760619,\n",
       "       0.04579204, 0.03691688, 0.03830783, 0.03141981, 0.04465125,\n",
       "       0.04198643, 0.04579669, 0.04771982, 0.0401082 , 0.04529199])"
      ]
     },
     "execution_count": 7,
     "metadata": {},
     "output_type": "execute_result"
    }
   ],
   "source": [
    "# Final values of the short rate process along all paths(1000)\n",
    "Simulated_rates_RN[-1]"
   ]
  },
  {
   "cell_type": "code",
   "execution_count": null,
   "metadata": {},
   "outputs": [],
   "source": []
  },
  {
   "cell_type": "markdown",
   "metadata": {},
   "source": [
    "#### Simulation under the S-forward measure"
   ]
  },
  {
   "cell_type": "code",
   "execution_count": 8,
   "metadata": {},
   "outputs": [],
   "source": [
    "# Initializing the matrix that will contain the short rate data simulated by HW model\n",
    "# Rows of this matrix indicate different time steps upto final date of simulation\n",
    "# Columns of this matrix indicate different paths\n",
    "Simulated_rates_fwd = np.zeros((101,1000))\n",
    "\n",
    "Simulated_rates_fwd[0] = r0    # Time 0 values of the short rate process along all the paths\n",
    "\n",
    "for i in range(1,101):\n",
    "    np.random.seed(i)\n",
    "    comp1 = Simulated_rates_fwd[i-1] + ( HW_param1(step*(i-1)) - C(step*(i-1),S)*(sigma**2) - a*Simulated_rates_fwd[i-1] )*step\n",
    "    comp2 = sigma * np.sqrt(step) * np.random.randn(1000)\n",
    "    Simulated_rates_fwd[i] = comp1 + comp2"
   ]
  },
  {
   "cell_type": "code",
   "execution_count": 9,
   "metadata": {},
   "outputs": [
    {
     "data": {
      "text/plain": [
       "array([0.04005522, 0.04141536, 0.0365374 , 0.03021592, 0.03640256,\n",
       "       0.03608681, 0.03199567, 0.0412949 , 0.03757952, 0.04196815,\n",
       "       0.04567772, 0.04117981, 0.03475984, 0.03681373, 0.03758401,\n",
       "       0.03485202, 0.04831252, 0.05217071, 0.04414901, 0.04345436,\n",
       "       0.03370854, 0.02979648, 0.04695938, 0.04532214, 0.0398901 ,\n",
       "       0.04028475, 0.04549318, 0.04203799, 0.04624168, 0.03396601,\n",
       "       0.03904864, 0.03566229, 0.03198978, 0.03851385, 0.02820664,\n",
       "       0.03404272, 0.03827361, 0.03923373, 0.03594531, 0.04270162,\n",
       "       0.04534158, 0.03719085, 0.03739253, 0.04461851, 0.05136958,\n",
       "       0.03733608, 0.03021737, 0.0495568 , 0.0308873 , 0.04533692,\n",
       "       0.04216326, 0.03607635, 0.0337225 , 0.04507001, 0.0408245 ,\n",
       "       0.05464286, 0.04851707, 0.04401654, 0.03822754, 0.03934432,\n",
       "       0.03954012, 0.0384531 , 0.04073505, 0.04378291, 0.04526032,\n",
       "       0.0410198 , 0.04039523, 0.04214035, 0.04768364, 0.05233803,\n",
       "       0.04757465, 0.04559074, 0.03827708, 0.04750871, 0.04820624,\n",
       "       0.04810318, 0.0460173 , 0.0434821 , 0.04383864, 0.03051946,\n",
       "       0.04888784, 0.04021234, 0.04146718, 0.045585  , 0.04212319,\n",
       "       0.04673748, 0.04891628, 0.02738696, 0.03502416, 0.01962023,\n",
       "       0.04560029, 0.03742562, 0.04560538, 0.04473461, 0.04230876,\n",
       "       0.04538166, 0.0509894 , 0.04267333, 0.036666  , 0.04883839,\n",
       "       0.03658126, 0.04383706, 0.03259362, 0.04448809, 0.04182523,\n",
       "       0.04732175, 0.04072729, 0.03946805, 0.04129533, 0.03882675,\n",
       "       0.03737129, 0.04179995, 0.03635621, 0.03642698, 0.03561836,\n",
       "       0.03109339, 0.03927883, 0.0421924 , 0.03368881, 0.03892862,\n",
       "       0.03452747, 0.04772444, 0.05342545, 0.04089851, 0.03881963,\n",
       "       0.04521126, 0.04565806, 0.03386239, 0.03839781, 0.04495114,\n",
       "       0.03671944, 0.0326279 , 0.03610593, 0.03844522, 0.03815829,\n",
       "       0.04144136, 0.05294247, 0.04240185, 0.03831437, 0.0400177 ,\n",
       "       0.04667357, 0.04210959, 0.02605319, 0.0379296 , 0.0491814 ,\n",
       "       0.03755313, 0.0404972 , 0.02790476, 0.03704302, 0.04212389,\n",
       "       0.04831214, 0.04939372, 0.04273115, 0.04095054, 0.04010976,\n",
       "       0.04307144, 0.04799793, 0.03431218, 0.03967214, 0.03644653,\n",
       "       0.04218755, 0.03150608, 0.03630224, 0.03950389, 0.04160993,\n",
       "       0.04226205, 0.0471823 , 0.05008812, 0.03817272, 0.05284248,\n",
       "       0.03669707, 0.03256309, 0.04876207, 0.05148375, 0.04155926,\n",
       "       0.03508234, 0.04351867, 0.03825236, 0.03181078, 0.0432696 ,\n",
       "       0.0313044 , 0.04631076, 0.0451673 , 0.04409155, 0.04528941,\n",
       "       0.03726534, 0.03938585, 0.04174414, 0.03921618, 0.04074396,\n",
       "       0.04140441, 0.03989857, 0.04159893, 0.03888032, 0.04213835,\n",
       "       0.04613154, 0.0444067 , 0.04380715, 0.03794995, 0.03851351,\n",
       "       0.05319054, 0.05120775, 0.03941987, 0.04047794, 0.04393058,\n",
       "       0.04898431, 0.04181837, 0.03913798, 0.04069611, 0.04350509,\n",
       "       0.03856797, 0.04416195, 0.0382401 , 0.03366653, 0.03916015,\n",
       "       0.03579129, 0.04339148, 0.04484126, 0.04542268, 0.03408846,\n",
       "       0.04431795, 0.03746392, 0.04102701, 0.03353378, 0.04566343,\n",
       "       0.04970282, 0.03498405, 0.03845653, 0.03751662, 0.03519166,\n",
       "       0.03589402, 0.04479935, 0.04152377, 0.03901178, 0.04192764,\n",
       "       0.04190031, 0.04438055, 0.04478298, 0.02595317, 0.04808245,\n",
       "       0.03758868, 0.03008631, 0.03957056, 0.03459657, 0.04176435,\n",
       "       0.04744947, 0.0382679 , 0.03363976, 0.04787188, 0.02836016,\n",
       "       0.04730702, 0.05204673, 0.04743428, 0.04513007, 0.03327408,\n",
       "       0.03719425, 0.03906113, 0.04109139, 0.04678918, 0.04082443,\n",
       "       0.045962  , 0.05002368, 0.03648702, 0.04246981, 0.03578808,\n",
       "       0.04217277, 0.04249305, 0.04289614, 0.03495074, 0.03882737,\n",
       "       0.04832485, 0.04249169, 0.03852005, 0.03293812, 0.04359631,\n",
       "       0.03626948, 0.03990032, 0.03813087, 0.03652618, 0.03238061,\n",
       "       0.04362654, 0.03513732, 0.03928541, 0.04442081, 0.04482785,\n",
       "       0.03870937, 0.04984303, 0.04516051, 0.02724375, 0.04236132,\n",
       "       0.05016819, 0.04299555, 0.03442795, 0.04498983, 0.05040501,\n",
       "       0.03869293, 0.03709865, 0.03899798, 0.04435467, 0.03117425,\n",
       "       0.04619366, 0.04157778, 0.04190293, 0.04678036, 0.03216806,\n",
       "       0.0461378 , 0.05207331, 0.0333634 , 0.04205933, 0.04971876,\n",
       "       0.05463526, 0.04240297, 0.04088728, 0.03232192, 0.04061543,\n",
       "       0.03848099, 0.04610774, 0.04038705, 0.04947271, 0.02791238,\n",
       "       0.04706245, 0.03512885, 0.032632  , 0.03539463, 0.03376866,\n",
       "       0.04422778, 0.03821976, 0.04512904, 0.04355395, 0.03378365,\n",
       "       0.03839662, 0.02845297, 0.05460018, 0.0280671 , 0.03696631,\n",
       "       0.0331651 , 0.04377449, 0.05263155, 0.04838896, 0.03679745,\n",
       "       0.05300246, 0.02360238, 0.04130104, 0.04314122, 0.05166527,\n",
       "       0.04333285, 0.04016385, 0.049183  , 0.04276619, 0.05030476,\n",
       "       0.04619052, 0.05110547, 0.03552319, 0.0378319 , 0.04144549,\n",
       "       0.03820702, 0.03695974, 0.03903812, 0.03352912, 0.02981547,\n",
       "       0.03887338, 0.03230245, 0.04064696, 0.04286972, 0.03304265,\n",
       "       0.03925181, 0.03631181, 0.03971308, 0.02818899, 0.04236559,\n",
       "       0.0288567 , 0.03301581, 0.04084472, 0.04387694, 0.0473676 ,\n",
       "       0.0329805 , 0.03869893, 0.05106199, 0.04474239, 0.03017168,\n",
       "       0.04876287, 0.03933571, 0.04222939, 0.04449276, 0.04078395,\n",
       "       0.0410639 , 0.03976039, 0.04211761, 0.03722922, 0.03297333,\n",
       "       0.04050299, 0.0332397 , 0.04182322, 0.04450391, 0.04898731,\n",
       "       0.04509929, 0.04304682, 0.03541073, 0.03968028, 0.03760013,\n",
       "       0.04621219, 0.03834577, 0.04510194, 0.04331309, 0.02769975,\n",
       "       0.0320073 , 0.04386428, 0.02706359, 0.04122513, 0.0438122 ,\n",
       "       0.04250119, 0.03936164, 0.0380461 , 0.04526771, 0.04075585,\n",
       "       0.03604576, 0.04507736, 0.04727848, 0.0486785 , 0.03661712,\n",
       "       0.04594994, 0.03971239, 0.04378042, 0.04002771, 0.04112452,\n",
       "       0.0412521 , 0.03884587, 0.04112208, 0.03691787, 0.03433269,\n",
       "       0.04315901, 0.03658107, 0.02896047, 0.04056054, 0.03598101,\n",
       "       0.03706717, 0.04134784, 0.03398083, 0.03979116, 0.03513243,\n",
       "       0.04121266, 0.04365187, 0.0418186 , 0.04568876, 0.03319491,\n",
       "       0.04449208, 0.0373617 , 0.03955784, 0.0438565 , 0.0352562 ,\n",
       "       0.04930013, 0.03864546, 0.0446003 , 0.03143762, 0.0382626 ,\n",
       "       0.04378408, 0.04105472, 0.04112691, 0.04072868, 0.0364705 ,\n",
       "       0.04421223, 0.03941487, 0.04860997, 0.04185664, 0.05567928,\n",
       "       0.03263972, 0.04538208, 0.0456787 , 0.04378621, 0.04466769,\n",
       "       0.03924567, 0.04510872, 0.03949898, 0.04660246, 0.04283048,\n",
       "       0.04130661, 0.05844312, 0.03534123, 0.03446948, 0.0427521 ,\n",
       "       0.03580357, 0.03422079, 0.04658161, 0.04307235, 0.04404151,\n",
       "       0.03535869, 0.04816377, 0.03879109, 0.0427198 , 0.03661131,\n",
       "       0.04238427, 0.03978716, 0.04766829, 0.02808502, 0.03652942,\n",
       "       0.03092215, 0.04276606, 0.04308736, 0.03639847, 0.03231442,\n",
       "       0.03956867, 0.03950298, 0.04355961, 0.04154675, 0.04136984,\n",
       "       0.03908682, 0.04315637, 0.04523495, 0.03794894, 0.04257207,\n",
       "       0.0417048 , 0.03334769, 0.04191771, 0.03442026, 0.03031122,\n",
       "       0.04255096, 0.0407036 , 0.03958025, 0.04124949, 0.0388915 ,\n",
       "       0.04817443, 0.04266855, 0.0385879 , 0.04266391, 0.03973543,\n",
       "       0.03195126, 0.04820358, 0.04023042, 0.0477383 , 0.02782518,\n",
       "       0.04665709, 0.03807371, 0.04163398, 0.0377297 , 0.03815363,\n",
       "       0.04486365, 0.04173268, 0.0394377 , 0.04197033, 0.04360196,\n",
       "       0.03674061, 0.04853739, 0.04591106, 0.03274858, 0.03326272,\n",
       "       0.04967461, 0.05115146, 0.04106434, 0.03913916, 0.04239255,\n",
       "       0.03907274, 0.04037426, 0.03698935, 0.03326943, 0.04229694,\n",
       "       0.03991227, 0.03526497, 0.04411738, 0.03644164, 0.03312623,\n",
       "       0.03913062, 0.04346649, 0.04693005, 0.03715679, 0.03911004,\n",
       "       0.04478284, 0.03378943, 0.03826656, 0.04568506, 0.04459917,\n",
       "       0.03261936, 0.04594864, 0.03981124, 0.04484019, 0.03228431,\n",
       "       0.03685522, 0.03529722, 0.03735367, 0.04167274, 0.03430448,\n",
       "       0.04209536, 0.0253327 , 0.03942863, 0.04609013, 0.03937247,\n",
       "       0.0405682 , 0.04044465, 0.02780585, 0.0465486 , 0.04460912,\n",
       "       0.04022207, 0.03854943, 0.04487963, 0.04032546, 0.05092159,\n",
       "       0.04488235, 0.0357966 , 0.03923858, 0.05218611, 0.04945083,\n",
       "       0.0453064 , 0.04782818, 0.03858586, 0.04559367, 0.04735947,\n",
       "       0.03227492, 0.03084682, 0.04242532, 0.0382164 , 0.03488376,\n",
       "       0.04529338, 0.04967267, 0.05173173, 0.04068486, 0.0399205 ,\n",
       "       0.03601239, 0.04850681, 0.04754481, 0.04732225, 0.04572709,\n",
       "       0.03925513, 0.03843365, 0.04903453, 0.04483365, 0.04948611,\n",
       "       0.03842185, 0.04143917, 0.04135832, 0.03949079, 0.04810014,\n",
       "       0.03661027, 0.04226725, 0.04929143, 0.03946815, 0.04050414,\n",
       "       0.03643406, 0.03757381, 0.05146961, 0.04245041, 0.03109678,\n",
       "       0.0398063 , 0.04264822, 0.04976918, 0.03661564, 0.03448768,\n",
       "       0.04309254, 0.03700182, 0.0359928 , 0.04106631, 0.03899629,\n",
       "       0.04023038, 0.05088341, 0.04194983, 0.03441899, 0.03800482,\n",
       "       0.03548015, 0.04555614, 0.05364458, 0.0397069 , 0.03905   ,\n",
       "       0.03798822, 0.03292979, 0.04899217, 0.03359657, 0.04529067,\n",
       "       0.02939757, 0.04408515, 0.04856484, 0.0354667 , 0.03815551,\n",
       "       0.04465802, 0.04224576, 0.04440382, 0.04442587, 0.04026414,\n",
       "       0.04433625, 0.04921504, 0.03698591, 0.04263789, 0.03675992,\n",
       "       0.04221182, 0.04033404, 0.03151924, 0.04556388, 0.02695909,\n",
       "       0.0365561 , 0.03386145, 0.04252314, 0.04510593, 0.04026745,\n",
       "       0.04948662, 0.03894579, 0.05300056, 0.03298496, 0.04839446,\n",
       "       0.03859848, 0.04456638, 0.04645126, 0.05874118, 0.04940948,\n",
       "       0.04434577, 0.04355897, 0.03636613, 0.04631013, 0.05711289,\n",
       "       0.03605513, 0.03296527, 0.0383506 , 0.04241591, 0.041912  ,\n",
       "       0.04250632, 0.05201671, 0.04540906, 0.04623466, 0.04580362,\n",
       "       0.04236891, 0.04387029, 0.0392159 , 0.04226433, 0.03714436,\n",
       "       0.03770569, 0.04159312, 0.03335956, 0.04920989, 0.04542408,\n",
       "       0.050893  , 0.03785729, 0.0465179 , 0.04574905, 0.04375986,\n",
       "       0.03505978, 0.03554233, 0.05354937, 0.03827959, 0.03944975,\n",
       "       0.04386963, 0.03767436, 0.04502543, 0.04422614, 0.03799682,\n",
       "       0.04202419, 0.03908159, 0.04470372, 0.04447599, 0.04681647,\n",
       "       0.04018127, 0.03168405, 0.04959754, 0.0369635 , 0.03405204,\n",
       "       0.04017355, 0.04098788, 0.03796305, 0.04558867, 0.03464591,\n",
       "       0.03989089, 0.03770348, 0.03700673, 0.04081043, 0.04387814,\n",
       "       0.04841637, 0.04865787, 0.04147652, 0.03824453, 0.04239401,\n",
       "       0.03874638, 0.03718853, 0.03692461, 0.04280822, 0.04093603,\n",
       "       0.03953531, 0.04157987, 0.04754896, 0.04545682, 0.03921621,\n",
       "       0.04302862, 0.04519205, 0.03116569, 0.03934862, 0.04657339,\n",
       "       0.03899085, 0.03583156, 0.04127024, 0.04492592, 0.04102627,\n",
       "       0.04302242, 0.04731327, 0.03875342, 0.04509737, 0.03635881,\n",
       "       0.03378028, 0.05001013, 0.03274926, 0.04406509, 0.04031824,\n",
       "       0.04020337, 0.04420188, 0.03579502, 0.04128365, 0.03774701,\n",
       "       0.04812709, 0.03531563, 0.04043643, 0.03373452, 0.04281792,\n",
       "       0.03590277, 0.03612528, 0.04426282, 0.0399548 , 0.04767591,\n",
       "       0.04435289, 0.03854219, 0.04719854, 0.0475009 , 0.04159442,\n",
       "       0.03296628, 0.02856521, 0.0326404 , 0.03530851, 0.04902587,\n",
       "       0.03505038, 0.04360858, 0.03654122, 0.03655805, 0.04451343,\n",
       "       0.04401464, 0.04454247, 0.03857998, 0.04002898, 0.05438647,\n",
       "       0.03665124, 0.04887803, 0.0447464 , 0.04131154, 0.03226781,\n",
       "       0.04313381, 0.04780908, 0.0567219 , 0.03572663, 0.04169916,\n",
       "       0.04290952, 0.03879383, 0.04282739, 0.04484214, 0.04214428,\n",
       "       0.05218233, 0.04038923, 0.04454241, 0.03275809, 0.04701959,\n",
       "       0.04118682, 0.04825516, 0.04485969, 0.04222223, 0.05321081,\n",
       "       0.0485842 , 0.03497609, 0.03576479, 0.03652324, 0.03588249,\n",
       "       0.0462569 , 0.04070456, 0.04648138, 0.05315907, 0.03115939,\n",
       "       0.04060775, 0.04366019, 0.03183789, 0.03398898, 0.04659952,\n",
       "       0.04898215, 0.03734108, 0.04143638, 0.03745895, 0.03030618,\n",
       "       0.04524132, 0.0427278 , 0.05220429, 0.03338422, 0.04135161,\n",
       "       0.03428884, 0.03408055, 0.04391287, 0.04420299, 0.04226756,\n",
       "       0.04458136, 0.03587828, 0.04405881, 0.04482102, 0.04431783,\n",
       "       0.04253799, 0.03763533, 0.04085157, 0.03576378, 0.03580816,\n",
       "       0.03421764, 0.03997481, 0.03604555, 0.04500041, 0.039827  ,\n",
       "       0.05016494, 0.04546772, 0.03738427, 0.04509794, 0.033093  ,\n",
       "       0.04861165, 0.04497688, 0.0421052 , 0.04519799, 0.04014204,\n",
       "       0.05088852, 0.03544703, 0.03998267, 0.04472728, 0.03975556,\n",
       "       0.04439653, 0.03559993, 0.03980137, 0.04156525, 0.04254433,\n",
       "       0.04530234, 0.04603166, 0.04857187, 0.03894929, 0.04278651,\n",
       "       0.03509703, 0.04225563, 0.04379186, 0.04819672, 0.05050367,\n",
       "       0.03950451, 0.03765845, 0.03538184, 0.03982495, 0.03890745,\n",
       "       0.03564155, 0.03582958, 0.04307253, 0.04101846, 0.03835548,\n",
       "       0.04100631, 0.05051538, 0.03864031, 0.03345779, 0.04010862,\n",
       "       0.04360574, 0.03582323, 0.03167347, 0.03892108, 0.04337846,\n",
       "       0.03810308, 0.03805939, 0.04209126, 0.04244661, 0.04004844,\n",
       "       0.03933437, 0.04097437, 0.04645933, 0.03622534, 0.05409361,\n",
       "       0.05006418, 0.04311095, 0.03745903, 0.04420521, 0.03991866,\n",
       "       0.03254019, 0.03240093, 0.04601484, 0.05297743, 0.03739743,\n",
       "       0.03806038, 0.03792862, 0.04417841, 0.0409178 , 0.04243684,\n",
       "       0.03941878, 0.04442087, 0.04124497, 0.04237692, 0.04841801,\n",
       "       0.04371778, 0.03649823, 0.04733073, 0.04313612, 0.03572817,\n",
       "       0.03661167, 0.04143762, 0.03601165, 0.04321638, 0.04746991,\n",
       "       0.04565576, 0.0367806 , 0.03817155, 0.03128353, 0.04451498,\n",
       "       0.04185015, 0.04566041, 0.04758354, 0.03997192, 0.04515572])"
      ]
     },
     "execution_count": 9,
     "metadata": {},
     "output_type": "execute_result"
    }
   ],
   "source": [
    "# Final values of the short rate process along all paths(1000)\n",
    "Simulated_rates_fwd[-1]"
   ]
  },
  {
   "cell_type": "code",
   "execution_count": null,
   "metadata": {},
   "outputs": [],
   "source": []
  },
  {
   "cell_type": "code",
   "execution_count": null,
   "metadata": {},
   "outputs": [],
   "source": []
  },
  {
   "cell_type": "markdown",
   "metadata": {},
   "source": [
    "### Pricing a swaption\n",
    "\n",
    "Consider a payer swaption with strike rate $K$, maturity $T$ and nominal value $N$, which gives the holder the right to enter into a payer swap at time at time $t_0=T$ with payment dates $t_1,\\ldots,t_n=S,t_i>T$, where he pays at the fixed rate $K$ and receives at the floating(LIBOR) rate $L(t_{i-1},t_i)$.\n",
    "\n",
    "The payoff of this swaption is given by \n",
    "$$N\\Big(\\sum_{i=1}^nB(T,t_i)(t_i-t_{i-1})\\big[F(T,t_{i-1},t_i)-K\\big]\\Big)^+=N\\big(1-\\sum_{i=1}^nc_iB(T,t_i)\\big)^+,$$\n",
    "where $c_i=K(t_i-t_{i-1}),c_n=\\big(1+K(t_i-t_{i-1})\\big)$, and $F(T,t_{i-1},t_i)=\\frac{B(T,t_{i-1})-B(T,t_i)}{(t_i-t_{i-1})B(T,t_i)}$ is the forward rate at time $T$ with expiry $t_{i-1}$ and maturity $t_i$, for $i\\in\\{1,\\ldots,n\\}$.\n",
    "\n",
    "To compute the current price of this swaption, the following approaches will be used:\n",
    "1. **Monte-Carlo Method**\n",
    "2. **Jamshidian Decomposition**\n",
    "\n",
    "Finally, it'll be assumed that the swaption is at the money, i.e., $K=\\frac{B(0,T)-B(0,S)}{\\sum_{i=1}^n(t_i-t_{i-1})B(0,t_i)}$, which is the swap rate of the underlying swap at time 0."
   ]
  },
  {
   "cell_type": "code",
   "execution_count": 10,
   "metadata": {},
   "outputs": [
    {
     "name": "stdout",
     "output_type": "stream",
     "text": [
      "Time to payment dates:  [1.5 2.  2.5 3.  3.5 4.  4.5 5. ] \n",
      "\n",
      "The strike rate:  0.046092690884860135 \n",
      "\n",
      "The coupon values:  [0.02304635 0.02304635 0.02304635 0.02304635 0.02304635 0.02304635\n",
      " 0.02304635 1.02304635]\n"
     ]
    }
   ],
   "source": [
    "# The nominal value of the contract(= 100 USD)\n",
    "N = 100             \n",
    "\n",
    "# Time between the reset date and the next payment date\n",
    "tau = 0.5          # 0.5 yrs = 6 months\n",
    "\n",
    "# The payment and reset dates of the swaption\n",
    "# 1st reset date = the swaption maturity\n",
    "# 2nd reset date = 1st payment date, 3rd reset date = 2nd payment date, and so on. Last payment date(from current date) = 5 yrs\n",
    "time_to_payment_dates = np.arange(T+tau,S+tau,tau)\n",
    "print('Time to payment dates: ', time_to_payment_dates,'\\n')\n",
    "\n",
    "# The strike rate\n",
    "K = ( initial_ts_bonds(T)-initial_ts_bonds(S) )/( tau*sum([initial_ts_bonds(t) for t in time_to_payment_dates]) )\n",
    "print('The strike rate: ', K,'\\n')\n",
    "\n",
    "# The coupon amounts(=c_i)\n",
    "coupon_values = np.array([K*tau for i in range(len(time_to_payment_dates)-1)] + [1+K*tau])\n",
    "print('The coupon values: ', coupon_values)"
   ]
  },
  {
   "cell_type": "markdown",
   "metadata": {},
   "source": [
    "#### Monte Carlo Method\n",
    "\n",
    "To price the above swaption using Monte-Carlo method, $S$-forward measure will be used. With this, the current price is given by $NB(0,S)\\mathbf{E}^S\\big[\\big(1-\\sum_{i=1}^nc_iB(T,t_i)\\big)^+\\big/B(T,S)\\big]$\n",
    "\n",
    "Under the risk-neutral measure the price becomes\n",
    "$N\\mathbf{E}\\big[D(T)\\big(1-\\sum_{i=1}^nc_iB(T,t_i)\\big)^+\\big]=N\\mathbf{E}\\big[\\exp\\big\\{-\\int_0^Tr(u)du\\big\\}\\big(1-\\sum_{i=1}^nc_iB(T,t_i)\\big)^+\\big]=N\\mathbf{E}\\big[\\exp\\big\\{-\\sum_{j=0}^{m-1}r(s_j)\\Delta s_j\\big\\}\\big(1-\\sum_{i=1}^nc_iB(T,t_i)\\big)^+\\big]$"
   ]
  },
  {
   "cell_type": "code",
   "execution_count": 11,
   "metadata": {},
   "outputs": [],
   "source": [
    "# Defining the function u->B(T,u), where T is the swaption maturity\n",
    "# The output is an array as it contains the simulated values of the short rate at swaption maturity\n",
    "def bondprice_at_swMaturity_RN(u):\n",
    "    return np.array([ A(T,u)*np.exp(-C(T,u)*r) for r in Simulated_rates_RN[-1] ])\n",
    "\n",
    "def bondprice_at_swMaturity_fwd(u):\n",
    "    return np.array([ A(T,u)*np.exp(-C(T,u)*r) for r in Simulated_rates_fwd[-1] ])"
   ]
  },
  {
   "cell_type": "code",
   "execution_count": null,
   "metadata": {},
   "outputs": [],
   "source": []
  },
  {
   "cell_type": "markdown",
   "metadata": {},
   "source": [
    "#### Pricing under the Risk Neutral Measure"
   ]
  },
  {
   "cell_type": "code",
   "execution_count": 12,
   "metadata": {},
   "outputs": [
    {
     "name": "stdout",
     "output_type": "stream",
     "text": [
      "Price of the above swaption using Monte-Carlo method:  0.6964433509436447 \n",
      "\n",
      "Time required for this step:  57.848597288131714\n"
     ]
    }
   ],
   "source": [
    "start = time.time()\n",
    "\n",
    "# Step1: Finding the array within the expectation --> 1 - Sum of c_iB(T,t_i)\n",
    "array1 = 1 - sum([c*bondprice_at_swMaturity_RN(t) for c,t in zip(coupon_values,time_to_payment_dates)])\n",
    "\n",
    "# Step2: Choosing only the non-negative values from Step 1\n",
    "array2 = np.array([max(x,0) for x in array1])\n",
    "\n",
    "# Step3: Computing the discount factor at T\n",
    "discount_factor_arr = np.exp(-step*sum([Simulated_rates_RN[i] for i in range(100)] ) )\n",
    "\n",
    "# Step4: Computing the discounted payoff\n",
    "array3 = discount_factor_arr * array2\n",
    "\n",
    "# Step3: Computing the expectation\n",
    "exp_value = array3.mean()\n",
    "\n",
    "# Step4: Swaption price using the Monte-Carlo method\n",
    "swaption_price_MC = N * exp_value\n",
    "print('Price of the above swaption using Monte-Carlo method: ', swaption_price_MC,'\\n')\n",
    "\n",
    "end = time.time()\n",
    "extime = end - start\n",
    "print('Time required for this step: ', extime)"
   ]
  },
  {
   "cell_type": "code",
   "execution_count": null,
   "metadata": {},
   "outputs": [],
   "source": []
  },
  {
   "cell_type": "markdown",
   "metadata": {},
   "source": [
    "#### Pricing under the forward measure"
   ]
  },
  {
   "cell_type": "code",
   "execution_count": 13,
   "metadata": {},
   "outputs": [
    {
     "name": "stdout",
     "output_type": "stream",
     "text": [
      "Price of the above swaption using Monte-Carlo method:  0.6945843135937569 \n",
      "\n",
      "Time required for this step:  66.14452457427979\n"
     ]
    }
   ],
   "source": [
    "start = time.time()\n",
    "\n",
    "# Step1: Finding the array within the expectation --> 1 - Sum of c_iB(T,t_i)\n",
    "array1 = 1 - sum([c*bondprice_at_swMaturity_fwd(t) for c,t in zip(coupon_values,time_to_payment_dates)])\n",
    "\n",
    "# Step2: Choosing only the non-negative values from Step 1\n",
    "array2 = np.array([max(x,0) for x in array1])\n",
    "\n",
    "# Step3: Dividing array2 by B(T,S)\n",
    "array3 = array2/bondprice_at_swMaturity_fwd(S)\n",
    "\n",
    "# Step3: Computing the expectation\n",
    "exp_value = array3.mean()\n",
    "\n",
    "# Step4: Swaption price using the Monte-Carlo method\n",
    "swaption_price_MC = N * initial_ts_bonds(S) * exp_value\n",
    "print('Price of the above swaption using Monte-Carlo method: ', swaption_price_MC,'\\n')\n",
    "\n",
    "end = time.time()\n",
    "extime = end - start\n",
    "print('Time required for this step: ', extime)"
   ]
  },
  {
   "cell_type": "code",
   "execution_count": null,
   "metadata": {},
   "outputs": [],
   "source": []
  },
  {
   "cell_type": "markdown",
   "metadata": {},
   "source": [
    "#### Jamshidian Decomposition\n",
    "\n",
    "To price the above swaption using Jamshidian decomposition, first one needs to solve the equation: $\\sum_{i=1}^nc_iA(T,t_i)e^{-C(T,t_i)r}=1$, for $r$. In this case, the equation is (theoritically)solvable by the intermediate value theorem, due to the following reasons:\n",
    "* The function $r\\mapsto\\sum_{i=1}^nc_iA(T,t_i)e^{-C(T,t_i)r}$ is continuous.\n",
    "* Range of this function lies between $0$(as $r\\rightarrow\\infty$) and $\\sum_{i=1}^nc_iA(T,t_i)$(when $r=0$).\n",
    "* It can be checked that for the particular case at hand, $\\sum_{i=1}^nc_iA(T,t_i)>1$.\n",
    "\n",
    "Define $B(T,t_i,r)=A(T,t_i)e^{-C(T,t_i)r},F(T,t_i,r)=\\sum_{i=1}^nc_iB(T,t_i,r)$, and note that all these functions are decreasing in $r$. Then the swaption payoff can be rewritten as:\n",
    "\\begin{align*}\n",
    "N\\big(F(T,t_i,r)-F(T,t_i,r(T))\\big)^+&=N\\big(F(T,t_i,r)-F(T,t_i,r(T))\\big)I_{\\{F(T,t_i,r)\\geq F(T,t_i,r(T))\\}}\\\\\n",
    "&=N\\big(F(T,t_i,r)-F(T,t_i,r(T))\\big)I_{\\{r\\leq r(T)\\}}\\\\\n",
    "&=N\\sum_{i=1}^nc_i\\big(B(T,t_i,r)-B(T,t_i,r(T))\\big)I_{\\{r\\leq r(T)\\}}\\\\\n",
    "&=N\\sum_{i=1}^nc_i\\big(B(T,t_i,r)-B(T,t_i,r(T))\\big)I_{\\{B(T,t_i,r)\\geq B(T,t_i,r(T))\\}}\\\\\n",
    "&=N\\sum_{i=1}^nc_i\\big(B(T,t_i,r)-B(T,t_i,r(T))\\big)^+\n",
    "\\end{align*}\n",
    "\n",
    "So, the swaption price at time $t<T$ equals $N\\sum_{i=1}^nc_i\\text{ZBP}\\big(t,T,t_i,B(T,t_i,r)\\big)$, where $\\text{ZBP}\\big(t,T,S,X\\big)$ is the time $t$ price of an European put option with strike $X$, maturity $T$ which is written on a zero coupon bond with maturity $S$.\n",
    "\n",
    "It can be shown that $\\text{ZBP}\\big(t,T,S,X\\big)=XB(t,T)N(-h+\\sigma_p)-B(t,S)N(-h)$, where\n",
    "* $\\sigma_p=\\sigma C(T,S)\\sqrt{\\frac{1-e^{-2a(T-t)}}{2a}}$,\n",
    "* $h=\\frac{1}{\\sigma_p}\\log\\big(\\frac{B(t,S)}{B(t,T)X}\\big)+\\frac{\\sigma_p}{2}$,\n",
    "* $N$ is the cdf of the standard normal."
   ]
  },
  {
   "cell_type": "code",
   "execution_count": 14,
   "metadata": {},
   "outputs": [
    {
     "data": {
      "text/plain": [
       "1.150376460660852"
      ]
     },
     "execution_count": 14,
     "metadata": {},
     "output_type": "execute_result"
    }
   ],
   "source": [
    "# Checking that the sum c_iA(T,t_i) is greater than 1\n",
    "\n",
    "sum([c*A(T,t) for c,t in zip(coupon_values,time_to_payment_dates)])"
   ]
  },
  {
   "cell_type": "code",
   "execution_count": 15,
   "metadata": {},
   "outputs": [
    {
     "data": {
      "text/plain": [
       "0.04126849192432651"
      ]
     },
     "execution_count": 15,
     "metadata": {},
     "output_type": "execute_result"
    }
   ],
   "source": [
    "# Solving the equation in r\n",
    "\n",
    "def eqFunction(r):\n",
    "    return sum([c*A(T,t)*np.exp(-C(T,t)*r) for c,t in zip(coupon_values,time_to_payment_dates) ]) - 1\n",
    "\n",
    "soln_r = fsolve(eqFunction,0)[0]\n",
    "soln_r"
   ]
  },
  {
   "cell_type": "code",
   "execution_count": 16,
   "metadata": {},
   "outputs": [
    {
     "data": {
      "text/plain": [
       "array([0.97932099, 0.95856012, 0.93772882, 0.91683844, 0.89590031,\n",
       "       0.87492565, 0.85392565, 0.83291143])"
      ]
     },
     "execution_count": 16,
     "metadata": {},
     "output_type": "execute_result"
    }
   ],
   "source": [
    "# Determining the strikes of European put on zero coupon bonds\n",
    "\n",
    "strike_arr = np.array([A(T,t)*np.exp(-C(T,t)*soln_r) for t in time_to_payment_dates])\n",
    "strike_arr"
   ]
  },
  {
   "cell_type": "code",
   "execution_count": 17,
   "metadata": {},
   "outputs": [],
   "source": [
    "# The price function of European put on zero coupon bonds at time 0\n",
    "# option maturity-->t1, zero-coupon bond maturitty-->t2, option strike-->X\n",
    "\n",
    "def ZBP(t1,t2,X):\n",
    "    sigma_p = sigma * C(t1,t2) * np.sqrt( (1-np.exp(-2*a*t1))/(2*a) )\n",
    "    h = (  (1/sigma_p) * np.log( initial_ts_bonds(t2)/(initial_ts_bonds(t1) * X) )  ) + (sigma_p/2)\n",
    "    return X*initial_ts_bonds(t1)*norm.cdf(-h+sigma_p) - initial_ts_bonds(t2)*norm.cdf(-h)"
   ]
  },
  {
   "cell_type": "code",
   "execution_count": 18,
   "metadata": {},
   "outputs": [
    {
     "data": {
      "text/plain": [
       "array([0.00107372, 0.00207421, 0.00300383, 0.00386491, 0.00465976,\n",
       "       0.00539063, 0.00605975, 0.00666929])"
      ]
     },
     "execution_count": 18,
     "metadata": {},
     "output_type": "execute_result"
    }
   ],
   "source": [
    "# Determining the prices of European put on zero coupon bonds\n",
    "\n",
    "price_arr = np.array([ZBP(T,t,strike) for t,strike in zip(time_to_payment_dates,strike_arr) ])\n",
    "price_arr"
   ]
  },
  {
   "cell_type": "code",
   "execution_count": 19,
   "metadata": {},
   "outputs": [
    {
     "data": {
      "text/plain": [
       "0.7425124083718546"
      ]
     },
     "execution_count": 19,
     "metadata": {},
     "output_type": "execute_result"
    }
   ],
   "source": [
    "# Swaption price using Jamshidian Decomposition\n",
    "\n",
    "swaption_price_JD = N * sum([c*price for c,price in zip(coupon_values,price_arr) ])\n",
    "swaption_price_JD"
   ]
  },
  {
   "cell_type": "code",
   "execution_count": null,
   "metadata": {},
   "outputs": [],
   "source": []
  }
 ],
 "metadata": {
  "kernelspec": {
   "display_name": "Python 3",
   "language": "python",
   "name": "python3"
  },
  "language_info": {
   "codemirror_mode": {
    "name": "ipython",
    "version": 3
   },
   "file_extension": ".py",
   "mimetype": "text/x-python",
   "name": "python",
   "nbconvert_exporter": "python",
   "pygments_lexer": "ipython3",
   "version": "3.7.6"
  }
 },
 "nbformat": 4,
 "nbformat_minor": 4
}
